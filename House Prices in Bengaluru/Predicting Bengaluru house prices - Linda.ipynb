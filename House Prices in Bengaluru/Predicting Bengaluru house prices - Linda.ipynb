{
 "cells": [
  {
   "cell_type": "markdown",
   "metadata": {},
   "source": [
    "## Predicting House Prices in Bengaluru"
   ]
  },
  {
   "cell_type": "markdown",
   "metadata": {},
   "source": [
    "### Table of contents:\n",
    "* [Data Understanding](#1.0)\n",
    "\n",
    "\n",
    "* [Data Cleaning](#2.0)\n",
    "    * [Locations](#2.1)\n",
    "    * [Societies](#2.2)\n",
    "    * [Availability](#2.3)\n",
    "    * [Total sqft](#2.4)\n",
    "    * [Size](#2.5)\n",
    "    * [Bath](#2.6)\n",
    "    * [Balcony](#2.7)\n",
    "    * [Price](#2.8)\n",
    "    * [Area Type](#2.9)\n",
    "    * [Removing Overall Outliers](#2.99)\n",
    "   \n",
    "    \n",
    "* [Data Visualization](#3.0)\n",
    "    * [Correlation heatmap](#3.1)\n",
    "\n",
    "\n",
    "    \n",
    "* [Model](#third-bullet) (Needs to be changed)"
   ]
  },
  {
   "cell_type": "code",
   "execution_count": 319,
   "metadata": {},
   "outputs": [],
   "source": [
    "import pandas as pd\n",
    "import numpy as np\n",
    "import matplotlib.pyplot as plt"
   ]
  },
  {
   "cell_type": "code",
   "execution_count": 320,
   "metadata": {},
   "outputs": [],
   "source": [
    "df_train = pd.read_csv('Predicting-House-Prices-In-Bengaluru-Train-Data.csv')"
   ]
  },
  {
   "cell_type": "markdown",
   "metadata": {},
   "source": [
    "### Data Understanding <a class=\"anchor\" id=\"1.0\"></a>"
   ]
  },
  {
   "cell_type": "code",
   "execution_count": 321,
   "metadata": {},
   "outputs": [
    {
     "data": {
      "text/html": [
       "<div>\n",
       "<style scoped>\n",
       "    .dataframe tbody tr th:only-of-type {\n",
       "        vertical-align: middle;\n",
       "    }\n",
       "\n",
       "    .dataframe tbody tr th {\n",
       "        vertical-align: top;\n",
       "    }\n",
       "\n",
       "    .dataframe thead th {\n",
       "        text-align: right;\n",
       "    }\n",
       "</style>\n",
       "<table border=\"1\" class=\"dataframe\">\n",
       "  <thead>\n",
       "    <tr style=\"text-align: right;\">\n",
       "      <th></th>\n",
       "      <th>area_type</th>\n",
       "      <th>availability</th>\n",
       "      <th>location</th>\n",
       "      <th>size</th>\n",
       "      <th>society</th>\n",
       "      <th>total_sqft</th>\n",
       "      <th>bath</th>\n",
       "      <th>balcony</th>\n",
       "      <th>price</th>\n",
       "    </tr>\n",
       "  </thead>\n",
       "  <tbody>\n",
       "    <tr>\n",
       "      <th>0</th>\n",
       "      <td>Super built-up  Area</td>\n",
       "      <td>19-Dec</td>\n",
       "      <td>Electronic City Phase II</td>\n",
       "      <td>2 BHK</td>\n",
       "      <td>Coomee</td>\n",
       "      <td>1056</td>\n",
       "      <td>2.0</td>\n",
       "      <td>1.0</td>\n",
       "      <td>39.07</td>\n",
       "    </tr>\n",
       "    <tr>\n",
       "      <th>1</th>\n",
       "      <td>Plot  Area</td>\n",
       "      <td>Ready To Move</td>\n",
       "      <td>Chikka Tirupathi</td>\n",
       "      <td>4 Bedroom</td>\n",
       "      <td>Theanmp</td>\n",
       "      <td>2600</td>\n",
       "      <td>5.0</td>\n",
       "      <td>3.0</td>\n",
       "      <td>120.00</td>\n",
       "    </tr>\n",
       "    <tr>\n",
       "      <th>2</th>\n",
       "      <td>Built-up  Area</td>\n",
       "      <td>Ready To Move</td>\n",
       "      <td>Uttarahalli</td>\n",
       "      <td>3 BHK</td>\n",
       "      <td>NaN</td>\n",
       "      <td>1440</td>\n",
       "      <td>2.0</td>\n",
       "      <td>3.0</td>\n",
       "      <td>62.00</td>\n",
       "    </tr>\n",
       "    <tr>\n",
       "      <th>3</th>\n",
       "      <td>Super built-up  Area</td>\n",
       "      <td>Ready To Move</td>\n",
       "      <td>Lingadheeranahalli</td>\n",
       "      <td>3 BHK</td>\n",
       "      <td>Soiewre</td>\n",
       "      <td>1521</td>\n",
       "      <td>3.0</td>\n",
       "      <td>1.0</td>\n",
       "      <td>95.00</td>\n",
       "    </tr>\n",
       "    <tr>\n",
       "      <th>4</th>\n",
       "      <td>Super built-up  Area</td>\n",
       "      <td>Ready To Move</td>\n",
       "      <td>Kothanur</td>\n",
       "      <td>2 BHK</td>\n",
       "      <td>NaN</td>\n",
       "      <td>1200</td>\n",
       "      <td>2.0</td>\n",
       "      <td>1.0</td>\n",
       "      <td>51.00</td>\n",
       "    </tr>\n",
       "  </tbody>\n",
       "</table>\n",
       "</div>"
      ],
      "text/plain": [
       "              area_type   availability                  location       size  \\\n",
       "0  Super built-up  Area         19-Dec  Electronic City Phase II      2 BHK   \n",
       "1            Plot  Area  Ready To Move          Chikka Tirupathi  4 Bedroom   \n",
       "2        Built-up  Area  Ready To Move               Uttarahalli      3 BHK   \n",
       "3  Super built-up  Area  Ready To Move        Lingadheeranahalli      3 BHK   \n",
       "4  Super built-up  Area  Ready To Move                  Kothanur      2 BHK   \n",
       "\n",
       "   society total_sqft  bath  balcony   price  \n",
       "0  Coomee        1056   2.0      1.0   39.07  \n",
       "1  Theanmp       2600   5.0      3.0  120.00  \n",
       "2      NaN       1440   2.0      3.0   62.00  \n",
       "3  Soiewre       1521   3.0      1.0   95.00  \n",
       "4      NaN       1200   2.0      1.0   51.00  "
      ]
     },
     "execution_count": 321,
     "metadata": {},
     "output_type": "execute_result"
    }
   ],
   "source": [
    "df_train.head()"
   ]
  },
  {
   "cell_type": "code",
   "execution_count": 322,
   "metadata": {},
   "outputs": [
    {
     "data": {
      "text/plain": [
       "area_type        object\n",
       "availability     object\n",
       "location         object\n",
       "size             object\n",
       "society          object\n",
       "total_sqft       object\n",
       "bath            float64\n",
       "balcony         float64\n",
       "price           float64\n",
       "dtype: object"
      ]
     },
     "execution_count": 322,
     "metadata": {},
     "output_type": "execute_result"
    }
   ],
   "source": [
    "df_train.dtypes"
   ]
  },
  {
   "cell_type": "code",
   "execution_count": 323,
   "metadata": {},
   "outputs": [
    {
     "data": {
      "text/html": [
       "<div>\n",
       "<style scoped>\n",
       "    .dataframe tbody tr th:only-of-type {\n",
       "        vertical-align: middle;\n",
       "    }\n",
       "\n",
       "    .dataframe tbody tr th {\n",
       "        vertical-align: top;\n",
       "    }\n",
       "\n",
       "    .dataframe thead th {\n",
       "        text-align: right;\n",
       "    }\n",
       "</style>\n",
       "<table border=\"1\" class=\"dataframe\">\n",
       "  <thead>\n",
       "    <tr style=\"text-align: right;\">\n",
       "      <th></th>\n",
       "      <th>Total</th>\n",
       "      <th>Percent</th>\n",
       "    </tr>\n",
       "  </thead>\n",
       "  <tbody>\n",
       "    <tr>\n",
       "      <th>society</th>\n",
       "      <td>5502</td>\n",
       "      <td>0.413063</td>\n",
       "    </tr>\n",
       "    <tr>\n",
       "      <th>balcony</th>\n",
       "      <td>609</td>\n",
       "      <td>0.045721</td>\n",
       "    </tr>\n",
       "    <tr>\n",
       "      <th>bath</th>\n",
       "      <td>73</td>\n",
       "      <td>0.005480</td>\n",
       "    </tr>\n",
       "    <tr>\n",
       "      <th>size</th>\n",
       "      <td>16</td>\n",
       "      <td>0.001201</td>\n",
       "    </tr>\n",
       "    <tr>\n",
       "      <th>location</th>\n",
       "      <td>1</td>\n",
       "      <td>0.000075</td>\n",
       "    </tr>\n",
       "    <tr>\n",
       "      <th>price</th>\n",
       "      <td>0</td>\n",
       "      <td>0.000000</td>\n",
       "    </tr>\n",
       "    <tr>\n",
       "      <th>total_sqft</th>\n",
       "      <td>0</td>\n",
       "      <td>0.000000</td>\n",
       "    </tr>\n",
       "    <tr>\n",
       "      <th>availability</th>\n",
       "      <td>0</td>\n",
       "      <td>0.000000</td>\n",
       "    </tr>\n",
       "    <tr>\n",
       "      <th>area_type</th>\n",
       "      <td>0</td>\n",
       "      <td>0.000000</td>\n",
       "    </tr>\n",
       "  </tbody>\n",
       "</table>\n",
       "</div>"
      ],
      "text/plain": [
       "              Total   Percent\n",
       "society        5502  0.413063\n",
       "balcony         609  0.045721\n",
       "bath             73  0.005480\n",
       "size             16  0.001201\n",
       "location          1  0.000075\n",
       "price             0  0.000000\n",
       "total_sqft        0  0.000000\n",
       "availability      0  0.000000\n",
       "area_type         0  0.000000"
      ]
     },
     "execution_count": 323,
     "metadata": {},
     "output_type": "execute_result"
    }
   ],
   "source": [
    "#missing data\n",
    "total = df_train.isnull().sum().sort_values(ascending=False)\n",
    "percent = (df_train.isnull().sum()/df_train.isnull().count()).sort_values(ascending=False)\n",
    "missing_data = pd.concat([total, percent], axis=1, keys=['Total', 'Percent'])\n",
    "missing_data.head(20)"
   ]
  },
  {
   "cell_type": "code",
   "execution_count": 324,
   "metadata": {},
   "outputs": [
    {
     "data": {
      "text/plain": [
       "2688"
      ]
     },
     "execution_count": 324,
     "metadata": {},
     "output_type": "execute_result"
    }
   ],
   "source": [
    "#unique number of listings in 'society'\n",
    "df_train['society'].nunique()"
   ]
  },
  {
   "cell_type": "code",
   "execution_count": 325,
   "metadata": {},
   "outputs": [
    {
     "data": {
      "text/plain": [
       "1305"
      ]
     },
     "execution_count": 325,
     "metadata": {},
     "output_type": "execute_result"
    }
   ],
   "source": [
    "#unique number of listings in 'location'\n",
    "df_train['location'].nunique()"
   ]
  },
  {
   "cell_type": "code",
   "execution_count": 326,
   "metadata": {},
   "outputs": [],
   "source": [
    "#df_train.groupby(['location']).nunique()"
   ]
  },
  {
   "cell_type": "code",
   "execution_count": 327,
   "metadata": {},
   "outputs": [
    {
     "data": {
      "text/plain": [
       "['2 BHK',\n",
       " '4 Bedroom',\n",
       " '3 BHK',\n",
       " '4 BHK',\n",
       " '6 Bedroom',\n",
       " '3 Bedroom',\n",
       " '1 BHK',\n",
       " '1 RK',\n",
       " '1 Bedroom',\n",
       " '8 Bedroom',\n",
       " '2 Bedroom',\n",
       " '7 Bedroom',\n",
       " '5 BHK',\n",
       " '7 BHK',\n",
       " '6 BHK',\n",
       " '5 Bedroom',\n",
       " '11 BHK',\n",
       " '9 BHK',\n",
       " nan,\n",
       " '9 Bedroom',\n",
       " '27 BHK',\n",
       " '10 Bedroom',\n",
       " '11 Bedroom',\n",
       " '10 BHK',\n",
       " '19 BHK',\n",
       " '16 BHK',\n",
       " '43 Bedroom',\n",
       " '14 BHK',\n",
       " '8 BHK',\n",
       " '12 Bedroom',\n",
       " '13 BHK',\n",
       " '18 Bedroom']"
      ]
     },
     "execution_count": 327,
     "metadata": {},
     "output_type": "execute_result"
    }
   ],
   "source": [
    "list(df_train['size'].unique())"
   ]
  },
  {
   "cell_type": "code",
   "execution_count": 328,
   "metadata": {},
   "outputs": [
    {
     "data": {
      "text/plain": [
       "[2.0,\n",
       " 5.0,\n",
       " 3.0,\n",
       " 4.0,\n",
       " 6.0,\n",
       " 1.0,\n",
       " 9.0,\n",
       " nan,\n",
       " 8.0,\n",
       " 7.0,\n",
       " 11.0,\n",
       " 10.0,\n",
       " 14.0,\n",
       " 27.0,\n",
       " 12.0,\n",
       " 16.0,\n",
       " 40.0,\n",
       " 15.0,\n",
       " 13.0,\n",
       " 18.0]"
      ]
     },
     "execution_count": 328,
     "metadata": {},
     "output_type": "execute_result"
    }
   ],
   "source": [
    "list(df_train['bath'].unique())"
   ]
  },
  {
   "cell_type": "markdown",
   "metadata": {},
   "source": [
    "### Data Cleaning <a class=\"anchor\" id=\"2.0\"></a>"
   ]
  },
  {
   "cell_type": "markdown",
   "metadata": {},
   "source": [
    "| Outliers | Irregular cardinality   | Missing values |\n",
    "|----------|-------------------------|----------------|\n",
    "|Bath      |   BHK                   |  Society       |\n",
    "|Sqft      |   Size                  |  Balcony       |\n",
    "|Balcony   |   Location              |  Bath          |\n",
    "|          |                         |  Size          |\n",
    "|          |                         |  Location      |"
   ]
  },
  {
   "cell_type": "markdown",
   "metadata": {},
   "source": [
    "#### Locations <a class=\"anchor\" id=\"2.1\"></a>"
   ]
  },
  {
   "cell_type": "code",
   "execution_count": null,
   "metadata": {},
   "outputs": [],
   "source": [
    "df_train['location'].value_counts()"
   ]
  },
  {
   "cell_type": "code",
   "execution_count": 330,
   "metadata": {},
   "outputs": [],
   "source": [
    "df_train.fillna(0, inplace=True)"
   ]
  },
  {
   "cell_type": "markdown",
   "metadata": {},
   "source": [
    "#### Approach to cleaning "
   ]
  },
  {
   "cell_type": "markdown",
   "metadata": {},
   "source": [
    "* Found list of locations on 99acres website, check for their occurrence in the train set and then clean\n",
    "* Make a huge function with many vectorized functions to apply on test data"
   ]
  },
  {
   "cell_type": "markdown",
   "metadata": {},
   "source": [
    "#### Observations"
   ]
  },
  {
   "cell_type": "markdown",
   "metadata": {},
   "source": [
    "* Varthur and Varathur road are 2 different places\n",
    "* There exists a Belathur and a Belatur colony\n",
    "* Rajarajeshwari different from Raja Rajeshwari Nagar\n",
    "* Dodda Nekkundi and Dodda Nekkundi Extension are 15 mins away from each other, leave them as they are\n",
    "* Domlur and Domlur Layout are the same place\n",
    "* Nagavarapalya and Nagavara are 30 mins apart\n",
    "* Doddakammanahalli and Kammanahalli are 1 hour 30 apart\n",
    "* KSRTC Layout different from TC Palaya\n",
    "* Kalkere and Kalkere Channasandra are 6 mins away, changed both to 'Kalkere'\n",
    "* Gunjur vs. Gunjur Palya are 4 mins away, changed both to 'Gunjur' \n",
    "* Doddanakundi Industrial Area 2 is 20mins away from Doddanekundi, however there are irregular cardinalities in the listing of 'Doddanakundi' e.g. 'Doddanakunte'- so will change all 'Doddanakundi' to Doddanakundi and leave Doddanakundi Industrial listings remaining\n",
    "* Howthinarayanappa Garden is a real place lol\n",
    "* Narayanappa Garden and  Narayanappa Layout are an hour apart\n",
    "* Lots of variations of 'Hennur' -road, gardens, busstop, bande- only 15 mins apart, change all to Hennur\n",
    "* Chikka-, Dodda-, Horamavu-,-Banaswadi are all 2km apart. Change all to 'Banaswadi' as listed on 99 acres\n",
    "* Amruthnagar and Amruthahalli are 6 mins away- leave be\n",
    "* Ullal Uppanagar, Ullal RTO and Ullal Road are within 4km vicinity\n",
    "* Frazer Town is the same as Pulikeshi Nagar\n",
    "* OLd Gurappanapalya and Gurappana palya are different\n",
    "* Chikkabanavar is Chikkabanavara on google maps, leave it be"
   ]
  },
  {
   "cell_type": "code",
   "execution_count": 336,
   "metadata": {},
   "outputs": [],
   "source": [
    "def cleanLocation(df):\n",
    "    df_train.loc[df_train['location'].str.contains('white', case=False, na=False), 'location'] = 'Whitefield'\n",
    "    df_train.loc[df_train['location'].str.contains('Sarjapur Road', case=False, na=False), 'location'] = 'Sarjapur Road'\n",
    "    df_train.loc[df_train['location'].str.contains('godi', case=False, na=False), 'location'] = 'Kadugodi'\n",
    "    df_train.loc[df_train['location'].str.contains('Bagalur', case=False, na=False), 'location'] = 'Bagalur'\n",
    "    df_train.loc[df_train['location'].str.contains('Iggalur', case=False, na=False), 'location'] = 'Haralur Road'\n",
    "    df_train.loc[df_train['location'].str.contains('Ramamurthy', case=False, na=False), 'location'] = 'Ramamurthy Nagar'\n",
    "    df_train.loc[df_train['location'].str.contains('Kundalahalli Colony', case=False, na=False), 'location'] = 'Kundalahalli'\n",
    "    df_train.loc[df_train['location'].str.contains('Old Airport Road', case=False, na=False), 'location'] = 'Old Airport Road'\n",
    "    df_train.loc[df_train['location'].str.contains('Near International Airport', case=False, na=False), 'location'] = 'Devanahalli Int. Airport'\n",
    "    df_train.loc[df_train['location'].str.contains('airport', case=False, na=False), 'location'] = 'Old Airport Road'\n",
    "    df_train.loc[df_train['location'].str.contains('madras', case=False, na=False), 'location'] = 'Old Madras Road'\n",
    "    df_train.loc[df_train['location'].str.contains('Maratha', case=False, na=False), 'location'] = 'Marathahalli'\n",
    "    df_train.loc[df_train['location'].str.contains('Panathur', case=False, na=False), 'location'] = 'Panathur Road'\n",
    "    df_train.loc[df_train['location'].str.contains('EPIP', case=False, na=False), 'location'] = 'EPIP Zone'\n",
    "    df_train.loc[df_train['location'].str.contains('Kasavan', case=False, na=False), 'location'] = 'Kasavanhalli'\n",
    "    df_train.loc[df_train['location'].str.contains('Mahade', case=False, na=False), 'location'] = 'Mahadevpura'\n",
    "    df_train.loc[df_train['location'].str.contains('Thigala', case=False, na=False), 'location'] = 'Thigalarapalya'\n",
    "    df_train.loc[df_train['location'].str.contains('Belatur', case=False, na=False), 'location'] = 'Belatur colony'\n",
    "    df_train.loc[df_train['location'].str.contains('Belathur', case=False, na=False), 'location'] = 'Belathur'\n",
    "    df_train.loc[df_train['location'].str.contains('Kaggad', case=False, na=False), 'location'] = 'Kaggadasapura'\n",
    "    df_train.loc[df_train['location'].str.contains('Banashankari', case=False, na=False), 'location'] = 'Banashankari'\n",
    "    df_train.loc[df_train['location'].str.contains('banshankari', case=False, na=False), 'location'] = 'Banashankari'\n",
    "    df_train.loc[df_train['location'].str.contains('Koramangala', case=False, na=False), 'location'] = 'Koramangala'\n",
    "    df_train.loc[df_train['location'].str.contains('Rajarajeshwari', case=False, na=False), 'location'] = 'Rajarajeshwari Nagar'\n",
    "    df_train.loc[df_train['location'].str.contains('Raja Rajeshwari', case=False, na=False), 'location'] = 'Raja Rajeshwari Nagar'\n",
    "    df_train.loc[df_train['location'].str.contains('Hoodi', case=False, na=False), 'location'] = 'Hoodi'\n",
    "    df_train.loc[df_train['location'].str.contains('Immadihalli', case=False, na=False), 'location'] = 'Immadihalli'\n",
    "    df_train.loc[df_train['location'].str.contains('Defence Colony', case=False, na=False), 'location'] = 'Defence Colony'\n",
    "    df_train.loc[df_train['location'].str.contains('Defence Layout', case=False, na=False), 'location'] = 'Defence Layout'\n",
    "    df_train.loc[df_train['location'].str.contains('OMBR', case=False, na=False), 'location'] = 'OMBR Layout'\n",
    "    df_train.loc[df_train['location'].str.contains('Lakshminarayana', case=False, na=False), 'location'] = 'Lakshminarayana Pura'\n",
    "    df_train.loc[df_train['location'].str.contains('Domma', case=False, na=False), 'location'] = 'Dommasandra'\n",
    "    df_train.loc[df_train['location'].str.contains('Domlur', case=False, na=False), 'location'] = 'Domlur'\n",
    "    df_train.loc[df_train['location'].str.contains('Cambridge', case=False, na=False), 'location'] = 'Cambridge Layout'\n",
    "    df_train.loc[df_train['location'].str.contains('AECS', case=False, na=False), 'location'] = 'AECS Layout'\n",
    "    df_train.loc[df_train['location'].str.contains('Kammanahalli Main Road', case=False, na=False), 'location'] = 'Kammanahalli'\n",
    "    df_train.loc[df_train['location'].str.contains('Ramaswamy', case=False, na=False), 'location'] = 'Kammanahalli'\n",
    "    df_train.loc[df_train['location'].str.contains('Kodihal', case=False, na=False), 'location'] = 'Kodihalli'\n",
    "    df_train.loc[df_train['location'].str.contains('Murugeshpalya', case=False, na=False), 'location'] = 'Murugeshpalya'\n",
    "    df_train.loc[df_train['location'].str.contains('KRTC', case=False, na=False), 'location'] = 'KRTC Layout'\n",
    "    df_train.loc[df_train['location'].str.contains('tc.p', case=False, na=False), 'location'] = 'TC Palaya'\n",
    "    df_train.loc[df_train['location'].str.contains('Kalkere', case=False, na=False), 'location'] = 'Kalkere'\n",
    "    df_train.loc[df_train['location'].str.contains('Gunjur', case=False, na=False), 'location'] = 'Gunjur'\n",
    "    df_train.loc[df_train['location'].str.contains('Battarahalli', case=False, na=False), 'location'] = 'Battarahalli'\n",
    "    df_train.loc[df_train['location'].str.contains('Doddanak', case=False, na=False), 'location'] = 'Doddanakundi Industrial Area 2'\n",
    "    df_train.loc[df_train['location'].str.contains('Doddanakunte', case=False, na=False), 'location'] = 'Doddanekundi'\n",
    "    df_train.loc[df_train['location'].str.contains('Doddane', case=False, na=False), 'location'] = 'Doddanekundi'\n",
    "    df_train.loc[df_train['location'].str.contains('Howthinarayanappa', case=False, na=False), 'location'] = 'Howthinarayanappa Garden'\n",
    "    df_train.loc[df_train['location'].str.contains('Prithvi', case=False, na=False), 'location'] = 'Prithvi Layout'\n",
    "    df_train.loc[df_train['location'].str.contains('Kodbi', case=False, na=False), 'location'] = 'Kodbisanhalli'\n",
    "    df_train.loc[df_train['location'].str.contains('Hennur Bande', case=False, na=False), 'location'] = 'Hennur Gardens'\n",
    "    df_train.loc[df_train['location'].str.contains('Hennur R', case=False, na=False), 'location'] = 'Hennur'\n",
    "    df_train.loc[df_train['location'].str.contains('Banaswadi', case=False, na=False), 'location'] = 'Banaswadi'\n",
    "    df_train.loc[df_train['location'].str.contains('Kalyan', case=False, na=False), 'location'] = 'Kalyan nagar'\n",
    "    df_train.loc[df_train['location'].str.contains('Lingaraja', case=False, na=False), 'location'] = 'Lingarajapuram'\n",
    "    df_train.loc[df_train['location'].str.contains('Hoskote', case=False, na=False), 'location'] = 'Hoskote'\n",
    "    df_train.loc[df_train['location'].str.contains('Geddal', case=False, na=False), 'location'] = 'Geddalahalli'\n",
    "    df_train.loc[df_train['location'].str.contains('Kadugon', case=False, na=False), 'location'] = 'Kadugondanahalli'\n",
    "    df_train.loc[df_train['location'].str.contains('Harap', case=False, na=False), 'location'] = 'Harappanahalli'\n",
    "    df_train.loc[df_train['location'].str.contains('RTO ullal', case=False, na=False), 'location'] = 'Ullal RTO Office'\n",
    "    df_train.loc[df_train['location'].str.contains('frazer', case=False, na=False), 'location'] = 'Frazer Town'\n",
    "    df_train.loc[df_train['location'].str.contains('Pulikeshi Nagar', case=False, na=False), 'location'] = 'Frazer Town'\n",
    "    df_train.loc[df_train['location'].str.contains('Mangammanapalya', case=False, na=False), 'location'] = 'Mangammanapalya'\n",
    "    df_train.loc[df_train['location'].str.contains('Chikkatirup', case=False, na=False), 'location'] = 'Chikka Tirupathi'\n",
    "    df_train.loc[df_train['location'].str.contains('Chikkaballapur', case=False, na=False), 'location'] = 'Chikkaballapura'\n",
    "    df_train.loc[df_train['location'].str.contains('Kodichikka', case=False, na=False), 'location'] = 'Kodichikkanahalli'\n",
    "    \n",
    "    "
   ]
  },
  {
   "cell_type": "code",
   "execution_count": 337,
   "metadata": {},
   "outputs": [],
   "source": [
    "cleanLocation(df)"
   ]
  },
  {
   "cell_type": "markdown",
   "metadata": {},
   "source": [
    "#### Checking for occurrence of certain locations in the data"
   ]
  },
  {
   "cell_type": "code",
   "execution_count": 338,
   "metadata": {},
   "outputs": [],
   "source": [
    "df_train[df_train['location'].str.contains('electronic',na=False,case=False)]"
   ]
  },
  {
   "cell_type": "code",
   "execution_count": 339,
   "metadata": {},
   "outputs": [],
   "source": [
    "#Retrieved list of localities from 99 acres property website\n",
    "\n",
    "Locations = ['Whitefield', 'Sarjapur Road','Kadugodi','Haralur Road','Varthur','CV Raman Nagar','Sarjapur','Ramamurthy Nagar','Kundalahalli','Old Madras Road',\\\n",
    "             'Marathahalli','Panathur','Munnekollal','Bhoganhalli','EPIP Zone','Kasavanhalli','Mahadevpura','Thigalarapalya','Belatur','Garudachar Palya',\\\n",
    "             'Kaggadasapura','Narayanapura','Ambalipura','Ambedkar Nagar','Brookefield','Indira Nagar','Balagere','Hoodi','Kothnur Narayanapura','Ramagondanahalli',\\\n",
    "             'Immadihalli',\\\n",
    "             'Kumbena Agrahara','Kasturi Nagar','KR Puram','ITPL','Rajiv Nagar','Rajiv Gandhi Nagar','Seegehalli','Sonnenahalli','Defence Colony','OMBR Layout',\\\n",
    "             'Kadubeesanahalli','Lakshminarayana Pura','Dommasandra','Dodda Nekkundi Extension','Subbannaiah Palya','Domlur','Nagavarapalya','Cambridge Layout','AECS Layout',\\\n",
    "             'Kammanahalli','Kodihalli','Murugeshpalya','TC Palaya','Old Airport Road','Kalkere','Gunjur','Battarahalli','Dodda Nekkundi','Narayanappa Garden',\\\n",
    "             'Belatur Colony','Prithvi Layout','Kodbisanhalli','Hennur Bande','Ardendale','Banaswadi','Outer Ring Road East','Kalyan nagar','Lingarajapuram',\\\n",
    "             'Hoskote','Geddalahalli','Kadugondanahalli','Harappanahalli','Marathi Layout','Amruthahalli','Mallathahalli','Lakshminarayana Pura','Ambedkar Colony','Ambedkar Nagar','Raja Rajeshwari Nagar','Rajaji Nagar','Brooke Bond First Cross','Gubbalala','Nagondanahalli',\\\n",
    "            'Benson Town', 'Crimson Layout']"
   ]
  },
  {
   "cell_type": "code",
   "execution_count": 340,
   "metadata": {},
   "outputs": [
    {
     "data": {
      "text/plain": [
       "True"
      ]
     },
     "execution_count": 340,
     "metadata": {},
     "output_type": "execute_result"
    }
   ],
   "source": [
    "x='Nagondanahalli'\n",
    "x in Locations"
   ]
  },
  {
   "cell_type": "code",
   "execution_count": 341,
   "metadata": {},
   "outputs": [],
   "source": [
    "#Locations in the data not listed on 99acres found while cleaning\n",
    "\n",
    "bonus_locations = ['Amruthahalli','Mallathahalli','Ullal Uppanagar','Parappana Agrahara','Arekempanahalli','Gurappanapalya',\\\n",
    "                  'Basavangudi','Old Mangammanapalya Road','palya','garden','Agrahara','GB palya','Chikkagubbi','Lakshminarayanapura, Electronic City Phase 2']\n"
   ]
  },
  {
   "cell_type": "markdown",
   "metadata": {},
   "source": [
    "#### Societies <a class=\"anchor\" id=\"2.2\"></a>"
   ]
  },
  {
   "cell_type": "code",
   "execution_count": 342,
   "metadata": {},
   "outputs": [],
   "source": [
    "#shortcut/command for surrounding multiple strings with quotation marks? \n",
    "\n",
    "Societies = ['Propulsive Pinnacle',\\\n",
    "             'Prestige Shantiniketan',\\\n",
    "             'Purva 270',\\\n",
    "             'RI Elegance',\\\n",
    "             'Navya Nisarga',\\\n",
    "             'Hita Lirio',\\\n",
    "'Vrushabadri Towers',\\\n",
    "'Saptagiri Sannidhi']\n",
    "# Divyasree Republic Of Whitefield\n",
    "# Adarsh Palm Retreat\n",
    "# Prestige Ferns Residency\n",
    "# SNR Verity\n",
    "# Brigade Cosmopolis\n",
    "# Assetz 63 Degree East\n",
    "# Prestige Ivy Terraces\n",
    "# Veohm Vigneshwara Cedar Woods\n",
    "# Purva Skydale\n",
    "# Sobha Dream Acres\n",
    "# Purva Whitehall\n",
    "# Sobha Habitech\n",
    "# Ravoos Rainbow\n",
    "# Brigade Lakefront\n",
    "# Jeevans Grandeur\n",
    "# Adarsh Palm Retreat Condominius\n",
    "# Rohan Iksha\n",
    "# Mantri Espana\n",
    "# Vasudha Springs\n",
    "# Prestige Sunnyside\n",
    "# SM Tranquil\n",
    "# Purva Skywood\n",
    "# Shriram Smrithi\n",
    "# Shriram Greenfield\n",
    "# Prestige Jade Pavilion\n",
    "# Prestige Park View\n",
    "# Prestige Lakeside Habitat\n",
    "# Nishant Prime\n",
    "# Mana Uber Verdant\n",
    "# Brigade Exotica\n",
    "# Mantri Glades\n",
    "# Neeladri Paradise\n",
    "# Shriram O2 Homes\n",
    "# Samudrikaa Sunshine\n",
    "# AR Tulips\n",
    "# Ozone Evergreens\n",
    "# DNR Atmosphere\n",
    "# Sobha Jasmine\n",
    "# Purva Sunshine\n",
    "# Klassik Landmark\n",
    "# Prestige Silversun\n",
    "# DSR Ultima\n",
    "# Nester Raga\n",
    "# Hilife Greens\n",
    "# SJR Palazza City\n",
    "# Salarpuria Sattva East Crest\n",
    "# Isha Misty Green\n",
    "# DS MAX Skylishcious\n",
    "# Total Raindrops Keep Falling On My Head\n",
    "# Century Infiniti\n",
    "# Total Windmills Of Your Mind\n",
    "# Brigade Golden Triangle\n",
    "# Basava Pride\n",
    "# skylark Ithaca\n",
    "# DS Max Skygrand\n",
    "# Crystal Dew\n",
    "# Raja Ritz Avenue\n",
    "# MJ Lifestyle Avershine\n",
    "# DSR Sunrise Towers\n",
    "# Sterling Shalom Phase 2\n",
    "# Divyasree 77 Place\n",
    "# Keerthi Surya Shakti Towers]"
   ]
  },
  {
   "cell_type": "markdown",
   "metadata": {},
   "source": [
    "### Availability <a class=\"anchor\" id=\"2.3\"></a>"
   ]
  },
  {
   "cell_type": "markdown",
   "metadata": {},
   "source": [
    "Divide availability into categories based on month and'ready-to-move'"
   ]
  },
  {
   "cell_type": "code",
   "execution_count": null,
   "metadata": {},
   "outputs": [],
   "source": [
    "list(df_train['availability'].unique())"
   ]
  },
  {
   "cell_type": "code",
   "execution_count": 317,
   "metadata": {},
   "outputs": [
    {
     "data": {
      "text/plain": [
       "Index([], dtype='object')"
      ]
     },
     "execution_count": 317,
     "metadata": {},
     "output_type": "execute_result"
    }
   ],
   "source": [
    "object_columns = df_train.select_dtypes(['object']).columns\n",
    "object_columns"
   ]
  },
  {
   "cell_type": "code",
   "execution_count": 343,
   "metadata": {},
   "outputs": [
    {
     "data": {
      "text/plain": [
       "area_type        object\n",
       "availability     object\n",
       "location         object\n",
       "size             object\n",
       "society          object\n",
       "total_sqft       object\n",
       "bath            float64\n",
       "balcony         float64\n",
       "price           float64\n",
       "dtype: object"
      ]
     },
     "execution_count": 343,
     "metadata": {},
     "output_type": "execute_result"
    }
   ],
   "source": [
    "df_train.dtypes"
   ]
  },
  {
   "cell_type": "code",
   "execution_count": 315,
   "metadata": {},
   "outputs": [],
   "source": [
    "#Convert selected columns to type 'category' \n",
    "# for column in object_columns: \n",
    "#     df_train[column] = df_train[column].astype('category')\n",
    "# df_train.dtypes"
   ]
  },
  {
   "cell_type": "markdown",
   "metadata": {},
   "source": [
    "Was having trouble replacing categorical values so I reverted availability to type 'object'"
   ]
  },
  {
   "cell_type": "code",
   "execution_count": 345,
   "metadata": {},
   "outputs": [],
   "source": [
    "df_train.loc[df_train['availability'].str.contains('Jan', case=False, na=False),'availability'] = 'Jan'\n",
    "df_train.loc[df_train['availability'].str.contains('Feb', case=False, na=False),'availability'] = 'Feb'\n",
    "df_train.loc[df_train['availability'].str.contains('Mar', case=False, na=False),'availability'] = 'Mar'\n",
    "df_train.loc[df_train['availability'].str.contains('Apr', case=False, na=False),'availability'] = 'Apr'\n",
    "df_train.loc[df_train['availability'].str.contains('May', case=False, na=False),'availability'] = 'May'\n",
    "df_train.loc[df_train['availability'].str.contains('Jun', case=False, na=False),'availability'] = 'Jun'\n",
    "df_train.loc[df_train['availability'].str.contains('Jul', case=False, na=False),'availability'] = 'Jul'\n",
    "df_train.loc[df_train['availability'].str.contains('Aug', case=False, na=False),'availability'] = 'Aug'\n",
    "df_train.loc[df_train['availability'].str.contains('Sep', case=False, na=False),'availability'] = 'Sep'\n",
    "df_train.loc[df_train['availability'].str.contains('Oct', case=False, na=False),'availability'] = 'Oct'\n",
    "df_train.loc[df_train['availability'].str.contains('Nov', case=False, na=False),'availability'] = 'Nov'\n",
    "df_train.loc[df_train['availability'].str.contains('Dec', case=False, na=False),'availability'] = 'Dec'"
   ]
  },
  {
   "cell_type": "code",
   "execution_count": 371,
   "metadata": {},
   "outputs": [
    {
     "data": {
      "text/plain": [
       "['Dec',\n",
       " 'Ready To Move',\n",
       " 'May',\n",
       " 'Feb',\n",
       " 'Nov',\n",
       " 'Oct',\n",
       " 'Sep',\n",
       " 'Mar',\n",
       " 'Apr',\n",
       " 'Aug',\n",
       " 'Jun',\n",
       " 'Jan',\n",
       " 'Jul',\n",
       " 'Immediate Possession']"
      ]
     },
     "execution_count": 371,
     "metadata": {},
     "output_type": "execute_result"
    }
   ],
   "source": [
    "list(df_train['availability'].unique())"
   ]
  },
  {
   "cell_type": "markdown",
   "metadata": {},
   "source": [
    "### Total sqft <a class=\"anchor\" id=\"2.4\"></a>"
   ]
  },
  {
   "cell_type": "markdown",
   "metadata": {},
   "source": [
    "#### Sqft column has:\n",
    "    >Floats\n",
    "    >Ranges\n",
    "    >Irregular unit measurements e.g\n",
    "    >'716Sq. Meter'\n",
    "    > '1574Sq. Yards'\n",
    "    >gunthas\n",
    "    >acres"
   ]
  },
  {
   "cell_type": "markdown",
   "metadata": {},
   "source": [
    "In hindsight I realise I did this cleaning in excel to I will need to do some future work on making functions to convert these units to sqft"
   ]
  },
  {
   "cell_type": "markdown",
   "metadata": {},
   "source": [
    "<img src=\"http://i.imgur.com/dEd7bFG.gif\">"
   ]
  },
  {
   "cell_type": "code",
   "execution_count": null,
   "metadata": {},
   "outputs": [],
   "source": [
    "#Convert category 'size' to numeric\n",
    "pd.to_numeric(df_train['total_sqft'], errors='coerce')"
   ]
  },
  {
   "cell_type": "code",
   "execution_count": null,
   "metadata": {},
   "outputs": [],
   "source": [
    "#Thought I'd already done this but there were some NaN values present so here we go\n",
    "df_train.fillna(0)"
   ]
  },
  {
   "cell_type": "markdown",
   "metadata": {},
   "source": [
    "#### Sqft column has ranges\n",
    "##### Approach: split sqft column based on '-' into 2 new columns- min and max sqrt_ft size"
   ]
  },
  {
   "cell_type": "code",
   "execution_count": 407,
   "metadata": {},
   "outputs": [],
   "source": [
    "#sweet this works \n",
    "df_train[['min_sqft', 'max_sqft']] = df_train['total_sqft'].str.split('-',expand=True)"
   ]
  },
  {
   "cell_type": "code",
   "execution_count": 408,
   "metadata": {},
   "outputs": [
    {
     "data": {
      "text/html": [
       "<div>\n",
       "<style scoped>\n",
       "    .dataframe tbody tr th:only-of-type {\n",
       "        vertical-align: middle;\n",
       "    }\n",
       "\n",
       "    .dataframe tbody tr th {\n",
       "        vertical-align: top;\n",
       "    }\n",
       "\n",
       "    .dataframe thead th {\n",
       "        text-align: right;\n",
       "    }\n",
       "</style>\n",
       "<table border=\"1\" class=\"dataframe\">\n",
       "  <thead>\n",
       "    <tr style=\"text-align: right;\">\n",
       "      <th></th>\n",
       "      <th>area_type</th>\n",
       "      <th>availability</th>\n",
       "      <th>location</th>\n",
       "      <th>size</th>\n",
       "      <th>society</th>\n",
       "      <th>total_sqft</th>\n",
       "      <th>bath</th>\n",
       "      <th>balcony</th>\n",
       "      <th>price</th>\n",
       "      <th>min_sqft</th>\n",
       "      <th>max_sqft</th>\n",
       "    </tr>\n",
       "  </thead>\n",
       "  <tbody>\n",
       "    <tr>\n",
       "      <th>30</th>\n",
       "      <td>Super built-up  Area</td>\n",
       "      <td>Dec</td>\n",
       "      <td>Yelahanka</td>\n",
       "      <td>4 BHK</td>\n",
       "      <td>LedorSa</td>\n",
       "      <td>2100 - 2850</td>\n",
       "      <td>4.0</td>\n",
       "      <td>0.0</td>\n",
       "      <td>186.000</td>\n",
       "      <td>2100</td>\n",
       "      <td>2850</td>\n",
       "    </tr>\n",
       "    <tr>\n",
       "      <th>56</th>\n",
       "      <td>Built-up  Area</td>\n",
       "      <td>Feb</td>\n",
       "      <td>Devanahalli</td>\n",
       "      <td>4 Bedroom</td>\n",
       "      <td>BrereAt</td>\n",
       "      <td>3010 - 3410</td>\n",
       "      <td>0.0</td>\n",
       "      <td>0.0</td>\n",
       "      <td>192.000</td>\n",
       "      <td>3010</td>\n",
       "      <td>3410</td>\n",
       "    </tr>\n",
       "    <tr>\n",
       "      <th>81</th>\n",
       "      <td>Built-up  Area</td>\n",
       "      <td>Oct</td>\n",
       "      <td>Hennur</td>\n",
       "      <td>4 Bedroom</td>\n",
       "      <td>Gollela</td>\n",
       "      <td>2957 - 3450</td>\n",
       "      <td>0.0</td>\n",
       "      <td>0.0</td>\n",
       "      <td>224.500</td>\n",
       "      <td>2957</td>\n",
       "      <td>3450</td>\n",
       "    </tr>\n",
       "    <tr>\n",
       "      <th>122</th>\n",
       "      <td>Super built-up  Area</td>\n",
       "      <td>Mar</td>\n",
       "      <td>Hebbal</td>\n",
       "      <td>4 BHK</td>\n",
       "      <td>SNontle</td>\n",
       "      <td>3067 - 8156</td>\n",
       "      <td>4.0</td>\n",
       "      <td>0.0</td>\n",
       "      <td>477.000</td>\n",
       "      <td>3067</td>\n",
       "      <td>8156</td>\n",
       "    </tr>\n",
       "    <tr>\n",
       "      <th>137</th>\n",
       "      <td>Super built-up  Area</td>\n",
       "      <td>Mar</td>\n",
       "      <td>8th Phase JP Nagar</td>\n",
       "      <td>2 BHK</td>\n",
       "      <td>Vaarech</td>\n",
       "      <td>1042 - 1105</td>\n",
       "      <td>2.0</td>\n",
       "      <td>0.0</td>\n",
       "      <td>54.005</td>\n",
       "      <td>1042</td>\n",
       "      <td>1105</td>\n",
       "    </tr>\n",
       "  </tbody>\n",
       "</table>\n",
       "</div>"
      ],
      "text/plain": [
       "                area_type availability            location       size  \\\n",
       "30   Super built-up  Area          Dec           Yelahanka      4 BHK   \n",
       "56         Built-up  Area          Feb         Devanahalli  4 Bedroom   \n",
       "81         Built-up  Area          Oct              Hennur  4 Bedroom   \n",
       "122  Super built-up  Area          Mar              Hebbal      4 BHK   \n",
       "137  Super built-up  Area          Mar  8th Phase JP Nagar      2 BHK   \n",
       "\n",
       "     society   total_sqft  bath  balcony    price min_sqft max_sqft  \n",
       "30   LedorSa  2100 - 2850   4.0      0.0  186.000    2100      2850  \n",
       "56   BrereAt  3010 - 3410   0.0      0.0  192.000    3010      3410  \n",
       "81   Gollela  2957 - 3450   0.0      0.0  224.500    2957      3450  \n",
       "122  SNontle  3067 - 8156   4.0      0.0  477.000    3067      8156  \n",
       "137  Vaarech  1042 - 1105   2.0      0.0   54.005    1042      1105  "
      ]
     },
     "execution_count": 408,
     "metadata": {},
     "output_type": "execute_result"
    }
   ],
   "source": [
    "df_train[df_train['total_sqft'].str.contains(' - ')].head()"
   ]
  },
  {
   "cell_type": "code",
   "execution_count": 409,
   "metadata": {},
   "outputs": [],
   "source": [
    "#object to float\n",
    "df_train[['min_sqft', 'max_sqft']] = df_train[['min_sqft', 'max_sqft']].astype(float)"
   ]
  },
  {
   "cell_type": "markdown",
   "metadata": {},
   "source": [
    "### Size <a class=\"anchor\" id=\"2.5\"></a>"
   ]
  },
  {
   "cell_type": "markdown",
   "metadata": {},
   "source": [
    "* Size represents how many bedrooms (BHK) a property has\n",
    "* Lots of irregular cardinalities exist \n",
    "* After examining boxplots of the feature 'size', I am going to classify any listing greater than 11 BHK as an outlier"
   ]
  },
  {
   "cell_type": "code",
   "execution_count": 416,
   "metadata": {},
   "outputs": [
    {
     "data": {
      "text/plain": [
       "['2 BHK',\n",
       " '4 Bedroom',\n",
       " '3 BHK',\n",
       " '4 BHK',\n",
       " '6 Bedroom',\n",
       " '3 Bedroom',\n",
       " '1 BHK',\n",
       " '1 RK',\n",
       " '1 Bedroom',\n",
       " '8 Bedroom',\n",
       " '2 Bedroom',\n",
       " '7 Bedroom',\n",
       " '5 BHK',\n",
       " '7 BHK',\n",
       " '6 BHK',\n",
       " '5 Bedroom',\n",
       " '11 BHK',\n",
       " '9 BHK',\n",
       " 0,\n",
       " '9 Bedroom',\n",
       " '27 BHK',\n",
       " '10 Bedroom',\n",
       " '11 Bedroom',\n",
       " '10 BHK',\n",
       " '19 BHK',\n",
       " '16 BHK',\n",
       " '43 Bedroom',\n",
       " '14 BHK',\n",
       " '8 BHK',\n",
       " '12 Bedroom',\n",
       " '13 BHK',\n",
       " '18 Bedroom']"
      ]
     },
     "execution_count": 416,
     "metadata": {},
     "output_type": "execute_result"
    }
   ],
   "source": [
    "list(df_train['size'].unique())"
   ]
  },
  {
   "cell_type": "code",
   "execution_count": 417,
   "metadata": {},
   "outputs": [
    {
     "data": {
      "image/png": "[encoded data removed]",
      "text/plain": [
       "<Figure size 1152x576 with 1 Axes>"
      ]
     },
     "metadata": {},
     "output_type": "display_data"
    }
   ],
   "source": [
    "var = 'size'\n",
    "data = pd.concat([df_train['price'], df_train[var]], axis=1)b\n",
    "f, ax = plt.subplots(figsize=(16, 8))\n",
    "fig = sns.boxplot(x=var,y=\"price\", data=df_train)\n",
    "plt.xticks(rotation=90);"
   ]
  },
  {
   "cell_type": "markdown",
   "metadata": {},
   "source": [
    "* 4 and 5 BHK seems to be the most common occurrence?\n",
    "* There's also a significant amount of 10 BHK\n",
    "* Lots of outliers exist here "
   ]
  },
  {
   "cell_type": "code",
   "execution_count": null,
   "metadata": {},
   "outputs": [],
   "source": [
    "df_train['size'].dropna()"
   ]
  },
  {
   "cell_type": "code",
   "execution_count": 419,
   "metadata": {},
   "outputs": [
    {
     "data": {
      "text/plain": [
       "dtype('O')"
      ]
     },
     "execution_count": 419,
     "metadata": {},
     "output_type": "execute_result"
    }
   ],
   "source": [
    "df_train['size'].dtype"
   ]
  },
  {
   "cell_type": "code",
   "execution_count": 420,
   "metadata": {},
   "outputs": [
    {
     "name": "stderr",
     "output_type": "stream",
     "text": [
      "/anaconda3/lib/python3.6/site-packages/ipykernel_launcher.py:1: FutureWarning: specifying 'categories' or 'ordered' in .astype() is deprecated; pass a CategoricalDtype instead\n",
      "  \"\"\"Entry point for launching an IPython kernel.\n"
     ]
    }
   ],
   "source": [
    "df_train['size'] = df_train['size'].astype('category', ordered=True)"
   ]
  },
  {
   "cell_type": "code",
   "execution_count": 424,
   "metadata": {},
   "outputs": [
    {
     "name": "stderr",
     "output_type": "stream",
     "text": [
      "/anaconda3/lib/python3.6/site-packages/ipykernel_launcher.py:3: SettingWithCopyWarning: \n",
      "A value is trying to be set on a copy of a slice from a DataFrame.\n",
      "Try using .loc[row_indexer,col_indexer] = value instead\n",
      "\n",
      "See the caveats in the documentation: http://pandas.pydata.org/pandas-docs/stable/indexing.html#indexing-view-versus-copy\n",
      "  This is separate from the ipykernel package so we can avoid doing imports until\n",
      "/anaconda3/lib/python3.6/site-packages/ipykernel_launcher.py:4: SettingWithCopyWarning: \n",
      "A value is trying to be set on a copy of a slice from a DataFrame.\n",
      "Try using .loc[row_indexer,col_indexer] = value instead\n",
      "\n",
      "See the caveats in the documentation: http://pandas.pydata.org/pandas-docs/stable/indexing.html#indexing-view-versus-copy\n",
      "  after removing the cwd from sys.path.\n",
      "/anaconda3/lib/python3.6/site-packages/ipykernel_launcher.py:5: SettingWithCopyWarning: \n",
      "A value is trying to be set on a copy of a slice from a DataFrame.\n",
      "Try using .loc[row_indexer,col_indexer] = value instead\n",
      "\n",
      "See the caveats in the documentation: http://pandas.pydata.org/pandas-docs/stable/indexing.html#indexing-view-versus-copy\n",
      "  \"\"\"\n",
      "/anaconda3/lib/python3.6/site-packages/ipykernel_launcher.py:6: SettingWithCopyWarning: \n",
      "A value is trying to be set on a copy of a slice from a DataFrame.\n",
      "Try using .loc[row_indexer,col_indexer] = value instead\n",
      "\n",
      "See the caveats in the documentation: http://pandas.pydata.org/pandas-docs/stable/indexing.html#indexing-view-versus-copy\n",
      "  \n",
      "/anaconda3/lib/python3.6/site-packages/ipykernel_launcher.py:7: SettingWithCopyWarning: \n",
      "A value is trying to be set on a copy of a slice from a DataFrame.\n",
      "Try using .loc[row_indexer,col_indexer] = value instead\n",
      "\n",
      "See the caveats in the documentation: http://pandas.pydata.org/pandas-docs/stable/indexing.html#indexing-view-versus-copy\n",
      "  import sys\n",
      "/anaconda3/lib/python3.6/site-packages/ipykernel_launcher.py:8: SettingWithCopyWarning: \n",
      "A value is trying to be set on a copy of a slice from a DataFrame.\n",
      "Try using .loc[row_indexer,col_indexer] = value instead\n",
      "\n",
      "See the caveats in the documentation: http://pandas.pydata.org/pandas-docs/stable/indexing.html#indexing-view-versus-copy\n",
      "  \n",
      "/anaconda3/lib/python3.6/site-packages/ipykernel_launcher.py:9: SettingWithCopyWarning: \n",
      "A value is trying to be set on a copy of a slice from a DataFrame.\n",
      "Try using .loc[row_indexer,col_indexer] = value instead\n",
      "\n",
      "See the caveats in the documentation: http://pandas.pydata.org/pandas-docs/stable/indexing.html#indexing-view-versus-copy\n",
      "  if __name__ == '__main__':\n",
      "/anaconda3/lib/python3.6/site-packages/ipykernel_launcher.py:10: SettingWithCopyWarning: \n",
      "A value is trying to be set on a copy of a slice from a DataFrame.\n",
      "Try using .loc[row_indexer,col_indexer] = value instead\n",
      "\n",
      "See the caveats in the documentation: http://pandas.pydata.org/pandas-docs/stable/indexing.html#indexing-view-versus-copy\n",
      "  # Remove the CWD from sys.path while we load stuff.\n",
      "/anaconda3/lib/python3.6/site-packages/ipykernel_launcher.py:11: SettingWithCopyWarning: \n",
      "A value is trying to be set on a copy of a slice from a DataFrame.\n",
      "Try using .loc[row_indexer,col_indexer] = value instead\n",
      "\n",
      "See the caveats in the documentation: http://pandas.pydata.org/pandas-docs/stable/indexing.html#indexing-view-versus-copy\n",
      "  # This is added back by InteractiveShellApp.init_path()\n",
      "/anaconda3/lib/python3.6/site-packages/ipykernel_launcher.py:12: SettingWithCopyWarning: \n",
      "A value is trying to be set on a copy of a slice from a DataFrame.\n",
      "Try using .loc[row_indexer,col_indexer] = value instead\n",
      "\n",
      "See the caveats in the documentation: http://pandas.pydata.org/pandas-docs/stable/indexing.html#indexing-view-versus-copy\n",
      "  if sys.path[0] == '':\n",
      "/anaconda3/lib/python3.6/site-packages/ipykernel_launcher.py:13: SettingWithCopyWarning: \n",
      "A value is trying to be set on a copy of a slice from a DataFrame.\n",
      "Try using .loc[row_indexer,col_indexer] = value instead\n",
      "\n",
      "See the caveats in the documentation: http://pandas.pydata.org/pandas-docs/stable/indexing.html#indexing-view-versus-copy\n",
      "  del sys.path[0]\n",
      "/anaconda3/lib/python3.6/site-packages/ipykernel_launcher.py:14: SettingWithCopyWarning: \n",
      "A value is trying to be set on a copy of a slice from a DataFrame.\n",
      "Try using .loc[row_indexer,col_indexer] = value instead\n",
      "\n",
      "See the caveats in the documentation: http://pandas.pydata.org/pandas-docs/stable/indexing.html#indexing-view-versus-copy\n",
      "  \n",
      "/anaconda3/lib/python3.6/site-packages/ipykernel_launcher.py:15: SettingWithCopyWarning: \n",
      "A value is trying to be set on a copy of a slice from a DataFrame.\n",
      "Try using .loc[row_indexer,col_indexer] = value instead\n",
      "\n",
      "See the caveats in the documentation: http://pandas.pydata.org/pandas-docs/stable/indexing.html#indexing-view-versus-copy\n",
      "  from ipykernel import kernelapp as app\n",
      "/anaconda3/lib/python3.6/site-packages/ipykernel_launcher.py:16: SettingWithCopyWarning: \n",
      "A value is trying to be set on a copy of a slice from a DataFrame.\n",
      "Try using .loc[row_indexer,col_indexer] = value instead\n",
      "\n",
      "See the caveats in the documentation: http://pandas.pydata.org/pandas-docs/stable/indexing.html#indexing-view-versus-copy\n",
      "  app.launch_new_instance()\n",
      "/anaconda3/lib/python3.6/site-packages/ipykernel_launcher.py:17: SettingWithCopyWarning: \n",
      "A value is trying to be set on a copy of a slice from a DataFrame.\n",
      "Try using .loc[row_indexer,col_indexer] = value instead\n",
      "\n",
      "See the caveats in the documentation: http://pandas.pydata.org/pandas-docs/stable/indexing.html#indexing-view-versus-copy\n"
     ]
    }
   ],
   "source": [
    "#Rename columns to uniform BHK\n",
    "#df['n'] = df['n'].replace({'a': 'x', 'b': 'y', 'c': 'w', 'd': 'z'})\n",
    "df_train['size'] = df_train['size'].replace({'1 Bedroom': '1 BHK'})\n",
    "df_train['size'] = df_train['size'].replace({'1 RK': '1 BHK'})\n",
    "df_train['size'] = df_train['size'].replace({'2 Bedroom': '2 BHK'})\n",
    "df_train['size'] = df_train['size'].replace({'3 Bedroom': '3 BHK'})\n",
    "df_train['size'] = df_train['size'].replace({'4 Bedroom': '4 BHK'})\n",
    "df_train['size'] = df_train['size'].replace({'5 Bedroom': '5 BHK'})\n",
    "df_train['size'] = df_train['size'].replace({'6 Bedroom': '6 BHK'})\n",
    "df_train['size'] = df_train['size'].replace({'7 Bedroom': '7 BHK'})\n",
    "df_train['size'] = df_train['size'].replace({'8 Bedroom': '8 BHK'})\n",
    "df_train['size'] = df_train['size'].replace({'9 Bedroom': '9 BHK'})\n",
    "df_train['size'] = df_train['size'].replace({'10 Bedroom': '10 BHK'})\n",
    "df_train['size'] = df_train['size'].replace({'11 Bedroom': '11 BHK'})\n",
    "df_train['size'] = df_train['size'].replace({'12 Bedroom': '12 BHK'})\n",
    "df_train['size'] = df_train['size'].replace({'43 Bedroom': '43 BHK'})\n",
    "df_train['size'] = df_train['size'].replace({'18 Bedroom': '18 BHK'})"
   ]
  },
  {
   "cell_type": "code",
   "execution_count": 426,
   "metadata": {},
   "outputs": [],
   "source": [
    "#How to remove categorical columns greater than 11 BHK\n",
    "df_train = df_train[df_train['size'] > '11 BHK']  "
   ]
  },
  {
   "cell_type": "markdown",
   "metadata": {},
   "source": [
    "### Bath <a class=\"anchor\" id=\"2.6\"></a>"
   ]
  },
  {
   "cell_type": "code",
   "execution_count": 446,
   "metadata": {},
   "outputs": [
    {
     "data": {
      "text/plain": [
       "2.0     6864\n",
       "3.0     3285\n",
       "4.0     1223\n",
       "5.0      523\n",
       "6.0      272\n",
       "1.0      179\n",
       "7.0      101\n",
       "8.0       62\n",
       "0.0       50\n",
       "9.0       40\n",
       "10.0       7\n",
       "12.0       4\n",
       "13.0       2\n",
       "11.0       1\n",
       "14.0       1\n",
       "Name: bath, dtype: int64"
      ]
     },
     "execution_count": 446,
     "metadata": {},
     "output_type": "execute_result"
    }
   ],
   "source": [
    "df_train['bath'].value_counts()"
   ]
  },
  {
   "cell_type": "markdown",
   "metadata": {},
   "source": [
    "### Balcony <a class=\"anchor\" id=\"2.7\"></a>"
   ]
  },
  {
   "cell_type": "code",
   "execution_count": 447,
   "metadata": {},
   "outputs": [
    {
     "data": {
      "text/plain": [
       "2.0    5074\n",
       "1.0    4470\n",
       "3.0    1663\n",
       "0.0    1407\n",
       "Name: balcony, dtype: int64"
      ]
     },
     "execution_count": 447,
     "metadata": {},
     "output_type": "execute_result"
    }
   ],
   "source": [
    "df_train['balcony'].value_counts()"
   ]
  },
  {
   "cell_type": "markdown",
   "metadata": {},
   "source": [
    "Bath and balcony seem pretty clean already"
   ]
  },
  {
   "cell_type": "markdown",
   "metadata": {},
   "source": [
    "### Price <a class=\"anchor\" id=\"2.8\"></a>"
   ]
  },
  {
   "cell_type": "code",
   "execution_count": null,
   "metadata": {},
   "outputs": [],
   "source": [
    "df_train['pr'].value_counts()"
   ]
  },
  {
   "cell_type": "code",
   "execution_count": 442,
   "metadata": {},
   "outputs": [
    {
     "data": {
      "text/plain": [
       "count    12614.000000\n",
       "mean       115.168731\n",
       "std        146.170358\n",
       "min         10.000000\n",
       "25%         52.000000\n",
       "50%         75.000000\n",
       "75%        123.000000\n",
       "max       2912.000000\n",
       "Name: price, dtype: float64"
      ]
     },
     "execution_count": 442,
     "metadata": {},
     "output_type": "execute_result"
    }
   ],
   "source": [
    "df_train['price'].describe()"
   ]
  },
  {
   "cell_type": "markdown",
   "metadata": {},
   "source": [
    "### Area Type <a class=\"anchor\" id=\"2.9\"></a>"
   ]
  },
  {
   "cell_type": "code",
   "execution_count": 448,
   "metadata": {},
   "outputs": [
    {
     "data": {
      "image/png": "[encoded data removed]",
      "text/plain": [
       "<Figure size 576x432 with 1 Axes>"
      ]
     },
     "metadata": {},
     "output_type": "display_data"
    }
   ],
   "source": [
    "#box plot overallqual/saleprice\n",
    "var = 'area_type'\n",
    "data = pd.concat([df_train['price'], df_train[var]], axis=1)\n",
    "f, ax = plt.subplots(figsize=(8, 6))\n",
    "fig = sns.boxplot(x=var, y=\"price\", data=df_train)"
   ]
  },
  {
   "cell_type": "markdown",
   "metadata": {},
   "source": [
    "### Data visualization <a class=\"anchor\" id=\"3.0\"></a>"
   ]
  },
  {
   "cell_type": "code",
   "execution_count": 411,
   "metadata": {},
   "outputs": [],
   "source": [
    "import seaborn as sns"
   ]
  },
  {
   "cell_type": "code",
   "execution_count": 412,
   "metadata": {},
   "outputs": [
    {
     "data": {
      "image/png": "[encoded data removed]",
      "text/plain": [
       "<Figure size 360x360 with 1 Axes>"
      ]
     },
     "metadata": {},
     "output_type": "display_data"
    }
   ],
   "source": [
    "g = sns.lmplot(x=\"min_sqft\", y=\"price\", data=df_train)"
   ]
  },
  {
   "cell_type": "code",
   "execution_count": 413,
   "metadata": {},
   "outputs": [
    {
     "data": {
      "image/png": "[encoded data removed]",
      "text/plain": [
       "<Figure size 360x360 with 1 Axes>"
      ]
     },
     "metadata": {},
     "output_type": "display_data"
    }
   ],
   "source": [
    "g = sns.lmplot(x=\"max_sqft\", y=\"price\", data=df_train)"
   ]
  },
  {
   "cell_type": "markdown",
   "metadata": {},
   "source": [
    "Nice, linear relationship between price and max_sqft so this should prove a useful feature"
   ]
  },
  {
   "cell_type": "code",
   "execution_count": 414,
   "metadata": {},
   "outputs": [
    {
     "data": {
      "image/png": "[encoded data removed]",
      "text/plain": [
       "<Figure size 360x360 with 1 Axes>"
      ]
     },
     "metadata": {},
     "output_type": "display_data"
    }
   ],
   "source": [
    "g = sns.lmplot(x=\"balcony\", y=\"price\", data=df_train)"
   ]
  },
  {
   "cell_type": "code",
   "execution_count": 415,
   "metadata": {},
   "outputs": [
    {
     "data": {
      "image/png": "[encoded data removed]",
      "text/plain": [
       "<Figure size 360x360 with 1 Axes>"
      ]
     },
     "metadata": {},
     "output_type": "display_data"
    }
   ],
   "source": [
    "g = sns.lmplot(x=\"bath\", y=\"price\", data=df_train)"
   ]
  },
  {
   "cell_type": "markdown",
   "metadata": {},
   "source": [
    "### Correlation heatmap <a class=\"anchor\" id=\"3.1\"></a>"
   ]
  },
  {
   "cell_type": "code",
   "execution_count": 439,
   "metadata": {},
   "outputs": [
    {
     "data": {
      "text/plain": [
       "(array([0.5, 1.5, 2.5, 3.5, 4.5]), <a list of 5 Text xticklabel objects>)"
      ]
     },
     "execution_count": 439,
     "metadata": {},
     "output_type": "execute_result"
    },
    {
     "data": {
      "image/png": "[encoded data removed]",
      "text/plain": [
       "<Figure size 792x648 with 2 Axes>"
      ]
     },
     "metadata": {},
     "output_type": "display_data"
    }
   ],
   "source": [
    "sns.set(style=\"white\")\n",
    "\n",
    "# Select columns containing continuous data\n",
    "continuous_columns = df_train[['balcony','bath','min_sqft','max_sqft','price','size']].columns\n",
    "\n",
    "# Calculate correlation of all pairs of continuous features\n",
    "corr = df_train[continuous_columns].corr()\n",
    "\n",
    "# Generate a mask for the upper triangle\n",
    "mask = np.zeros_like(corr, dtype=np.bool)\n",
    "mask[np.triu_indices_from(mask)] = True\n",
    "\n",
    "# Set up the matplotlib figure\n",
    "f, ax = plt.subplots(figsize=(11, 9))\n",
    "\n",
    "# Generate a custom colormap - blue and red\n",
    "cmap = sns.diverging_palette(220, 10, as_cmap=True)\n",
    "\n",
    "# Draw the heatmap with the mask and correct aspect ratio\n",
    "sns.heatmap(corr, annot=True, mask=mask, cmap=cmap, vmax=1, vmin=-1,\n",
    "            square=True, xticklabels=True, yticklabels=True,\n",
    "            linewidths=.5, cbar_kws={\"shrink\": .5}, ax=ax)\n",
    "plt.yticks(rotation = 0)\n",
    "plt.xticks(rotation = 45)"
   ]
  },
  {
   "cell_type": "code",
   "execution_count": 12,
   "metadata": {
    "scrolled": true
   },
   "outputs": [
    {
     "name": "stderr",
     "output_type": "stream",
     "text": [
      "/anaconda3/lib/python3.6/site-packages/matplotlib/axes/_axes.py:6462: UserWarning: The 'normed' kwarg is deprecated, and has been replaced by the 'density' kwarg.\n",
      "  warnings.warn(\"The 'normed' kwarg is deprecated, and has been \"\n"
     ]
    },
    {
     "data": {
      "image/png": "[encoded data removed]",
      "text/plain": [
       "<Figure size 432x288 with 1 Axes>"
      ]
     },
     "metadata": {},
     "output_type": "display_data"
    }
   ],
   "source": [
    "sns.distplot(df_train['price']);"
   ]
  },
  {
   "cell_type": "code",
   "execution_count": 13,
   "metadata": {},
   "outputs": [
    {
     "name": "stdout",
     "output_type": "stream",
     "text": [
      "Skewness: 8.064469\n",
      "Kurtosis: 108.166513\n"
     ]
    }
   ],
   "source": [
    "#skewness and kurtosis\n",
    "print(\"Skewness: %f\" % df_train['price'].skew())\n",
    "print(\"Kurtosis: %f\" % df_train['price'].kurt())\n"
   ]
  },
  {
   "cell_type": "code",
   "execution_count": 116,
   "metadata": {},
   "outputs": [
    {
     "name": "stderr",
     "output_type": "stream",
     "text": [
      "/anaconda3/lib/python3.6/site-packages/matplotlib/axes/_axes.py:6462: UserWarning: The 'normed' kwarg is deprecated, and has been replaced by the 'density' kwarg.\n",
      "  warnings.warn(\"The 'normed' kwarg is deprecated, and has been \"\n"
     ]
    },
    {
     "data": {
      "image/png": "[encoded data removed]",
      "text/plain": [
       "<Figure size 432x288 with 1 Axes>"
      ]
     },
     "metadata": {},
     "output_type": "display_data"
    }
   ],
   "source": [
    "sns.distplot(df_train['min_sqft']);"
   ]
  },
  {
   "cell_type": "code",
   "execution_count": 125,
   "metadata": {},
   "outputs": [
    {
     "name": "stderr",
     "output_type": "stream",
     "text": [
      "/anaconda3/lib/python3.6/site-packages/matplotlib/axes/_axes.py:6462: UserWarning: The 'normed' kwarg is deprecated, and has been replaced by the 'density' kwarg.\n",
      "  warnings.warn(\"The 'normed' kwarg is deprecated, and has been \"\n"
     ]
    },
    {
     "data": {
      "image/png": "[encoded data removed]",
      "text/plain": [
       "<Figure size 432x288 with 1 Axes>"
      ]
     },
     "metadata": {},
     "output_type": "display_data"
    }
   ],
   "source": [
    "sns.distplot(df_classif['bath']);"
   ]
  },
  {
   "cell_type": "code",
   "execution_count": 126,
   "metadata": {},
   "outputs": [
    {
     "name": "stderr",
     "output_type": "stream",
     "text": [
      "/anaconda3/lib/python3.6/site-packages/matplotlib/axes/_axes.py:6462: UserWarning: The 'normed' kwarg is deprecated, and has been replaced by the 'density' kwarg.\n",
      "  warnings.warn(\"The 'normed' kwarg is deprecated, and has been \"\n"
     ]
    },
    {
     "data": {
      "image/png": "[encoded data removed]",
      "text/plain": [
       "<Figure size 432x288 with 1 Axes>"
      ]
     },
     "metadata": {},
     "output_type": "display_data"
    }
   ],
   "source": [
    "sns.distplot(df_classif['balcony']);"
   ]
  },
  {
   "cell_type": "code",
   "execution_count": null,
   "metadata": {},
   "outputs": [],
   "source": [
    "#replace all figures in dataframe whose value is nan to 0\n",
    "df3['size'].replace(['nan'], 0)"
   ]
  },
  {
   "cell_type": "code",
   "execution_count": null,
   "metadata": {},
   "outputs": [],
   "source": [
    "df3['balcony'].fillna(0)\n",
    "df3['bath'].fillna(0)\n",
    "df3['price'].fillna(0)\n",
    "df3['min_sqft'].fillna(0)"
   ]
  },
  {
   "cell_type": "markdown",
   "metadata": {},
   "source": [
    "### Removing outliers <a class=\"anchor\" id=\"2.99\"></a>"
   ]
  },
  {
   "cell_type": "code",
   "execution_count": 429,
   "metadata": {},
   "outputs": [
    {
     "data": {
      "image/png": "[encoded data removed]",
      "text/plain": [
       "<Figure size 432x288 with 1 Axes>"
      ]
     },
     "metadata": {},
     "output_type": "display_data"
    }
   ],
   "source": [
    "sns.set_style(\"whitegrid\")\n",
    "ax = sns.boxplot(x=df_train[\"min_sqft\"])"
   ]
  },
  {
   "cell_type": "markdown",
   "metadata": {},
   "source": [
    "Remove outliers greater than 100,000 min_sqft "
   ]
  },
  {
   "cell_type": "code",
   "execution_count": 430,
   "metadata": {},
   "outputs": [],
   "source": [
    "df_train = df_train[df_train['min_sqft'] < 30000]  "
   ]
  },
  {
   "cell_type": "code",
   "execution_count": 432,
   "metadata": {},
   "outputs": [
    {
     "data": {
      "image/png": "[encoded data removed]",
      "text/plain": [
       "<Figure size 432x288 with 1 Axes>"
      ]
     },
     "metadata": {},
     "output_type": "display_data"
    }
   ],
   "source": [
    "sns.set_style(\"whitegrid\")\n",
    "ax = sns.boxplot(x=df_train[\"min_sqft\"])"
   ]
  },
  {
   "cell_type": "markdown",
   "metadata": {},
   "source": [
    "Wait, what *is* the average sqft house range is in bengaluru.."
   ]
  },
  {
   "cell_type": "code",
   "execution_count": 1,
   "metadata": {},
   "outputs": [
    {
     "ename": "NameError",
     "evalue": "name 'df_train' is not defined",
     "output_type": "error",
     "traceback": [
      "\u001b[0;31m---------------------------------------------------------------------------\u001b[0m",
      "\u001b[0;31mNameError\u001b[0m                                 Traceback (most recent call last)",
      "\u001b[0;32m<ipython-input-1-948532163be6>\u001b[0m in \u001b[0;36m<module>\u001b[0;34m()\u001b[0m\n\u001b[0;32m----> 1\u001b[0;31m \u001b[0mdf_train\u001b[0m\u001b[0;34m.\u001b[0m\u001b[0mloc\u001b[0m\u001b[0;34m[\u001b[0m\u001b[0mdf_train\u001b[0m\u001b[0;34m[\u001b[0m\u001b[0;34m'size'\u001b[0m\u001b[0;34m]\u001b[0m\u001b[0;34m==\u001b[0m\u001b[0;34m'4 BHK'\u001b[0m\u001b[0;34m]\u001b[0m\u001b[0;34m.\u001b[0m\u001b[0mgroupby\u001b[0m\u001b[0;34m(\u001b[0m\u001b[0mdf_train\u001b[0m\u001b[0;34m[\u001b[0m\u001b[0;34m'min_sqft'\u001b[0m\u001b[0;34m]\u001b[0m\u001b[0;34m)\u001b[0m\u001b[0;34m.\u001b[0m\u001b[0msum\u001b[0m\u001b[0;34m(\u001b[0m\u001b[0;34m)\u001b[0m\u001b[0;34m.\u001b[0m\u001b[0mplot\u001b[0m\u001b[0;34m(\u001b[0m\u001b[0;34m)\u001b[0m\u001b[0;34m\u001b[0m\u001b[0m\n\u001b[0m",
      "\u001b[0;31mNameError\u001b[0m: name 'df_train' is not defined"
     ]
    }
   ],
   "source": [
    "#Trying to plot the mean sqft of house where size = 4 BHK\n",
    "\n",
    "df_train.loc[df_train['size']=='4 BHK'].groupby(df_train['min_sqft']).sum().plot()"
   ]
  },
  {
   "cell_type": "code",
   "execution_count": null,
   "metadata": {},
   "outputs": [],
   "source": [
    "df_train.loc[df_train['size']=='4 BHK'].plot()"
   ]
  },
  {
   "cell_type": "code",
   "execution_count": 60,
   "metadata": {},
   "outputs": [
    {
     "data": {
      "image/png": "[encoded data removed]",
      "text/plain": [
       "<Figure size 432x288 with 1 Axes>"
      ]
     },
     "metadata": {},
     "output_type": "display_data"
    }
   ],
   "source": [
    "#Box plots for each category\n",
    "sns.set_style(\"whitegrid\")\n",
    "ax = sns.boxplot(x=df3[\"price\"])"
   ]
  },
  {
   "cell_type": "markdown",
   "metadata": {},
   "source": [
    "This looks relatively normal spread to me? Will live with it for now"
   ]
  },
  {
   "cell_type": "code",
   "execution_count": 61,
   "metadata": {},
   "outputs": [
    {
     "data": {
      "image/png": "[encoded data removed]",
      "text/plain": [
       "<Figure size 432x288 with 1 Axes>"
      ]
     },
     "metadata": {},
     "output_type": "display_data"
    }
   ],
   "source": [
    "#Box plots for each category\n",
    "sns.set_style(\"whitegrid\")\n",
    "ax = sns.boxplot(x=df3[\"bath\"])"
   ]
  },
  {
   "cell_type": "markdown",
   "metadata": {},
   "source": [
    "Remove rows with more than 15 baths, because that just seems ridiculous"
   ]
  },
  {
   "cell_type": "code",
   "execution_count": 433,
   "metadata": {},
   "outputs": [],
   "source": [
    "df_train = df_train[df_train['bath'] < 15 ]  "
   ]
  },
  {
   "cell_type": "code",
   "execution_count": 434,
   "metadata": {},
   "outputs": [
    {
     "data": {
      "image/png": "[encoded data removed]",
      "text/plain": [
       "<Figure size 432x288 with 1 Axes>"
      ]
     },
     "metadata": {},
     "output_type": "display_data"
    }
   ],
   "source": [
    "#Box plots for each category\n",
    "sns.set_style(\"whitegrid\")\n",
    "ax = sns.boxplot(x=df_train[\"balcony\"])"
   ]
  },
  {
   "cell_type": "code",
   "execution_count": 435,
   "metadata": {},
   "outputs": [
    {
     "data": {
      "image/png": "[encoded data removed]",
      "text/plain": [
       "<Figure size 432x288 with 1 Axes>"
      ]
     },
     "metadata": {},
     "output_type": "display_data"
    }
   ],
   "source": [
    "sns.set_style(\"whitegrid\")\n",
    "ax = sns.boxplot(x=df_train[\"price\"])"
   ]
  },
  {
   "cell_type": "markdown",
   "metadata": {},
   "source": [
    "Since I'm not getting a strong correlation with price- perhaps I should remove outliers in price- clamp figures greater than 2500 "
   ]
  },
  {
   "cell_type": "markdown",
   "metadata": {},
   "source": [
    "#### Modelling "
   ]
  },
  {
   "cell_type": "code",
   "execution_count": 42,
   "metadata": {},
   "outputs": [
    {
     "name": "stderr",
     "output_type": "stream",
     "text": [
      "/anaconda3/lib/python3.6/site-packages/sklearn/cross_validation.py:41: DeprecationWarning: This module was deprecated in version 0.18 in favor of the model_selection module into which all the refactored classes and functions are moved. Also note that the interface of the new CV iterators are different from that of this module. This module will be removed in 0.20.\n",
      "  \"This module will be removed in 0.20.\", DeprecationWarning)\n"
     ]
    }
   ],
   "source": [
    "from patsy import dmatrices\n",
    "from sklearn.cross_validation import train_test_split\n",
    "from sklearn import metrics\n",
    "from sklearn.cross_validation import cross_val_score\n",
    "from sklearn.tree import export_graphviz\n",
    "from sklearn.tree import DecisionTreeClassifier\n",
    "from sklearn.ensemble import RandomForestClassifier\n",
    "\n",
    "# Allows plots to appear directly in the notebook.\n",
    "%matplotlib inline"
   ]
  },
  {
   "cell_type": "code",
   "execution_count": 41,
   "metadata": {},
   "outputs": [
    {
     "data": {
      "text/plain": [
       "115.61851741884384"
      ]
     },
     "execution_count": 41,
     "metadata": {},
     "output_type": "execute_result"
    }
   ],
   "source": [
    "df3['price'].mean()"
   ]
  },
  {
   "cell_type": "code",
   "execution_count": 43,
   "metadata": {},
   "outputs": [
    {
     "data": {
      "text/plain": [
       "1631.9634557256525"
      ]
     },
     "execution_count": 43,
     "metadata": {},
     "output_type": "execute_result"
    }
   ],
   "source": [
    "df3['min_sqft'].mean()"
   ]
  },
  {
   "cell_type": "code",
   "execution_count": 65,
   "metadata": {},
   "outputs": [],
   "source": [
    "PriceClass = (df3.price > 112.565626) * 1.0\n",
    "#PriceClass\n",
    "df_PriceClass = pd.DataFrame({'PriceClass': PriceClass})"
   ]
  },
  {
   "cell_type": "code",
   "execution_count": 66,
   "metadata": {},
   "outputs": [],
   "source": [
    "# Crate a new dataframe where we add column PriceClass to the original dataframe with 10 offices.\n",
    "df_classif = pd.concat([df3, df_PriceClass], axis = 1)\n",
    "#df_classif.dropna()"
   ]
  },
  {
   "cell_type": "code",
   "execution_count": 67,
   "metadata": {},
   "outputs": [],
   "source": [
    "# Drop the column price from the df_classif dataframe.\n",
    "df_classif.drop('price', axis=1, inplace=True)"
   ]
  },
  {
   "cell_type": "code",
   "execution_count": null,
   "metadata": {},
   "outputs": [],
   "source": [
    "df_classif.dropna()"
   ]
  },
  {
   "cell_type": "code",
   "execution_count": 83,
   "metadata": {},
   "outputs": [
    {
     "data": {
      "text/plain": [
       "area_type           0\n",
       "availability        0\n",
       "location            1\n",
       "size                0\n",
       "society          5494\n",
       "total_sqft          0\n",
       "bath                0\n",
       "balcony           533\n",
       "min_sqft            0\n",
       "max_sqft        13097\n",
       "PriceClass          0\n",
       "dtype: int64"
      ]
     },
     "execution_count": 83,
     "metadata": {},
     "output_type": "execute_result"
    }
   ],
   "source": [
    "df_classif.isnull().sum()"
   ]
  },
  {
   "cell_type": "code",
   "execution_count": 90,
   "metadata": {},
   "outputs": [],
   "source": [
    "#convert NaN to zero\n",
    "df_classif['balcony']=df_classif['balcony'].fillna(0)"
   ]
  },
  {
   "cell_type": "code",
   "execution_count": 92,
   "metadata": {},
   "outputs": [],
   "source": [
    "#df_classif['society']=df_classif['society'].fillna(0)"
   ]
  },
  {
   "cell_type": "code",
   "execution_count": 88,
   "metadata": {},
   "outputs": [
    {
     "data": {
      "text/plain": [
       "area_type           0\n",
       "availability        0\n",
       "location            1\n",
       "size                0\n",
       "society          5494\n",
       "total_sqft          0\n",
       "bath                0\n",
       "balcony             0\n",
       "min_sqft            0\n",
       "max_sqft        13097\n",
       "PriceClass          0\n",
       "dtype: int64"
      ]
     },
     "execution_count": 88,
     "metadata": {},
     "output_type": "execute_result"
    }
   ],
   "source": [
    "df_classif.isnull().sum()"
   ]
  },
  {
   "cell_type": "code",
   "execution_count": 71,
   "metadata": {},
   "outputs": [
    {
     "data": {
      "text/html": [
       "<div>\n",
       "<style scoped>\n",
       "    .dataframe tbody tr th:only-of-type {\n",
       "        vertical-align: middle;\n",
       "    }\n",
       "\n",
       "    .dataframe tbody tr th {\n",
       "        vertical-align: top;\n",
       "    }\n",
       "\n",
       "    .dataframe thead th {\n",
       "        text-align: right;\n",
       "    }\n",
       "</style>\n",
       "<table border=\"1\" class=\"dataframe\">\n",
       "  <thead>\n",
       "    <tr style=\"text-align: right;\">\n",
       "      <th></th>\n",
       "      <th>PriceClass</th>\n",
       "      <th>min_sqft</th>\n",
       "      <th>max_sqft</th>\n",
       "      <th>balcony</th>\n",
       "      <th>bath</th>\n",
       "    </tr>\n",
       "  </thead>\n",
       "  <tbody>\n",
       "    <tr>\n",
       "      <th>PriceClass</th>\n",
       "      <td>1.000000</td>\n",
       "      <td>0.188483</td>\n",
       "      <td>0.841719</td>\n",
       "      <td>0.133222</td>\n",
       "      <td>0.567920</td>\n",
       "    </tr>\n",
       "    <tr>\n",
       "      <th>min_sqft</th>\n",
       "      <td>0.188483</td>\n",
       "      <td>1.000000</td>\n",
       "      <td>0.918562</td>\n",
       "      <td>0.045008</td>\n",
       "      <td>0.165818</td>\n",
       "    </tr>\n",
       "    <tr>\n",
       "      <th>max_sqft</th>\n",
       "      <td>0.841719</td>\n",
       "      <td>0.918562</td>\n",
       "      <td>1.000000</td>\n",
       "      <td>NaN</td>\n",
       "      <td>0.824059</td>\n",
       "    </tr>\n",
       "    <tr>\n",
       "      <th>balcony</th>\n",
       "      <td>0.133222</td>\n",
       "      <td>0.045008</td>\n",
       "      <td>NaN</td>\n",
       "      <td>1.000000</td>\n",
       "      <td>0.226631</td>\n",
       "    </tr>\n",
       "    <tr>\n",
       "      <th>bath</th>\n",
       "      <td>0.567920</td>\n",
       "      <td>0.165818</td>\n",
       "      <td>0.824059</td>\n",
       "      <td>0.226631</td>\n",
       "      <td>1.000000</td>\n",
       "    </tr>\n",
       "  </tbody>\n",
       "</table>\n",
       "</div>"
      ],
      "text/plain": [
       "            PriceClass  min_sqft  max_sqft   balcony      bath\n",
       "PriceClass    1.000000  0.188483  0.841719  0.133222  0.567920\n",
       "min_sqft      0.188483  1.000000  0.918562  0.045008  0.165818\n",
       "max_sqft      0.841719  0.918562  1.000000       NaN  0.824059\n",
       "balcony       0.133222  0.045008       NaN  1.000000  0.226631\n",
       "bath          0.567920  0.165818  0.824059  0.226631  1.000000"
      ]
     },
     "execution_count": 71,
     "metadata": {},
     "output_type": "execute_result"
    }
   ],
   "source": [
    "# Look at correlations for all the continuous features.\n",
    "df_classif[['size', 'PriceClass', 'min_sqft','max_sqft','balcony','bath']].corr()"
   ]
  },
  {
   "cell_type": "markdown",
   "metadata": {},
   "source": [
    "#### For the random forest let's try get it working with just continuous features for now:\n",
    "\n",
    "    >min_sqft\n",
    "    >balcony\n",
    "    >bath\n",
    "    >PriceClass"
   ]
  },
  {
   "cell_type": "code",
   "execution_count": 72,
   "metadata": {},
   "outputs": [
    {
     "name": "stderr",
     "output_type": "stream",
     "text": [
      "/anaconda3/lib/python3.6/site-packages/ipykernel_launcher.py:1: FutureWarning: Method .as_matrix will be removed in a future version. Use .values instead.\n",
      "  \"\"\"Entry point for launching an IPython kernel.\n"
     ]
    },
    {
     "ename": "IndexError",
     "evalue": "index 1 is out of bounds for axis 1 with size 1",
     "output_type": "error",
     "traceback": [
      "\u001b[0;31m---------------------------------------------------------------------------\u001b[0m",
      "\u001b[0;31mIndexError\u001b[0m                                Traceback (most recent call last)",
      "\u001b[0;32m<ipython-input-72-cb7305b2b018>\u001b[0m in \u001b[0;36m<module>\u001b[0;34m()\u001b[0m\n\u001b[0;32m----> 1\u001b[0;31m \u001b[0mdf_classif\u001b[0m\u001b[0;34m[\u001b[0m\u001b[0;34m[\u001b[0m\u001b[0;34m'size'\u001b[0m\u001b[0;34m,\u001b[0m \u001b[0;34m'min_sqft'\u001b[0m\u001b[0;34m]\u001b[0m\u001b[0;34m]\u001b[0m\u001b[0;34m.\u001b[0m\u001b[0mcorr\u001b[0m\u001b[0;34m(\u001b[0m\u001b[0;34m)\u001b[0m\u001b[0;34m.\u001b[0m\u001b[0mas_matrix\u001b[0m\u001b[0;34m(\u001b[0m\u001b[0;34m)\u001b[0m\u001b[0;34m[\u001b[0m\u001b[0;36m0\u001b[0m\u001b[0;34m,\u001b[0m\u001b[0;36m1\u001b[0m\u001b[0;34m]\u001b[0m\u001b[0;34m\u001b[0m\u001b[0m\n\u001b[0m",
      "\u001b[0;31mIndexError\u001b[0m: index 1 is out of bounds for axis 1 with size 1"
     ]
    }
   ],
   "source": [
    "df_classif[['size', 'min_sqft']].corr().as_matrix()[0,1]"
   ]
  },
  {
   "cell_type": "code",
   "execution_count": 80,
   "metadata": {},
   "outputs": [],
   "source": [
    "# Prepare the data, turn categorical features into dummies.\n",
    "\n",
    "# df_cont_feat = df_classif[['area_type', 'availability', 'location','size','society']]\n",
    "# df_dummies_area_type = pd.get_dummies(df_classif[['area_type']])\n",
    "# df_dummies_availability = pd.get_dummies(df_classif[['availability']])\n",
    "# #df_dummies_location = pd.get_dummies(df_classif[['location']])\n",
    "# df_dummies_size = pd.get_dummies(df_classif[['size']])\n",
    "# #df_dummies_society = pd.get_dummies(df_classif[['society']])\n",
    "# df_dummies_area_type.head()"
   ]
  },
  {
   "cell_type": "markdown",
   "metadata": {},
   "source": [
    "#### Continous features"
   ]
  },
  {
   "cell_type": "code",
   "execution_count": 94,
   "metadata": {},
   "outputs": [],
   "source": [
    "df_cont = df_classif[['min_sqft','balcony','bath']]"
   ]
  },
  {
   "cell_type": "code",
   "execution_count": null,
   "metadata": {},
   "outputs": [],
   "source": [
    "# Add dummies to the other continuous features\n",
    "#X = pd.concat([df_cont_feat,df_dummies_availability,df_dummies_location,df_dummies_size], axis =1)\n",
    "X = df_cont\n",
    "y = df_classif.PriceClass\n",
    "print(\"Descriptive features:\\n\", X)\n",
    "print(\"\\nTarget feature:\\n\", y)"
   ]
  },
  {
   "cell_type": "code",
   "execution_count": 96,
   "metadata": {},
   "outputs": [
    {
     "name": "stdout",
     "output_type": "stream",
     "text": [
      "DecisionTreeClassifier(class_weight=None, criterion='gini', max_depth=3,\n",
      "            max_features=None, max_leaf_nodes=None,\n",
      "            min_impurity_decrease=0.0, min_impurity_split=None,\n",
      "            min_samples_leaf=1, min_samples_split=2,\n",
      "            min_weight_fraction_leaf=0.0, presort=False, random_state=1,\n",
      "            splitter='best')\n"
     ]
    }
   ],
   "source": [
    "# Instantiate sklearn estimator, fit with training set.\n",
    "# Train a classification tree with max_depth=3 on all data.\n",
    "dtc = DecisionTreeClassifier(max_depth=3, random_state=1)\n",
    "dtc.fit(X, y)\n",
    "print(dtc)"
   ]
  },
  {
   "cell_type": "code",
   "execution_count": 97,
   "metadata": {},
   "outputs": [
    {
     "data": {
      "text/plain": [
       "sklearn.tree.tree.DecisionTreeClassifier"
      ]
     },
     "execution_count": 97,
     "metadata": {},
     "output_type": "execute_result"
    }
   ],
   "source": [
    "type(dtc)"
   ]
  },
  {
   "cell_type": "code",
   "execution_count": 98,
   "metadata": {},
   "outputs": [
    {
     "data": {
      "text/html": [
       "<div>\n",
       "<style scoped>\n",
       "    .dataframe tbody tr th:only-of-type {\n",
       "        vertical-align: middle;\n",
       "    }\n",
       "\n",
       "    .dataframe tbody tr th {\n",
       "        vertical-align: top;\n",
       "    }\n",
       "\n",
       "    .dataframe thead th {\n",
       "        text-align: right;\n",
       "    }\n",
       "</style>\n",
       "<table border=\"1\" class=\"dataframe\">\n",
       "  <thead>\n",
       "    <tr style=\"text-align: right;\">\n",
       "      <th></th>\n",
       "      <th>feature</th>\n",
       "      <th>importance</th>\n",
       "    </tr>\n",
       "  </thead>\n",
       "  <tbody>\n",
       "    <tr>\n",
       "      <th>0</th>\n",
       "      <td>min_sqft</td>\n",
       "      <td>0.854382</td>\n",
       "    </tr>\n",
       "    <tr>\n",
       "      <th>1</th>\n",
       "      <td>balcony</td>\n",
       "      <td>0.000000</td>\n",
       "    </tr>\n",
       "    <tr>\n",
       "      <th>2</th>\n",
       "      <td>bath</td>\n",
       "      <td>0.145618</td>\n",
       "    </tr>\n",
       "  </tbody>\n",
       "</table>\n",
       "</div>"
      ],
      "text/plain": [
       "    feature  importance\n",
       "0  min_sqft    0.854382\n",
       "1   balcony    0.000000\n",
       "2      bath    0.145618"
      ]
     },
     "execution_count": 98,
     "metadata": {},
     "output_type": "execute_result"
    }
   ],
   "source": [
    "# Compute the importance of each feature based on the trained decision tree classifier\n",
    "pd.DataFrame({'feature': X.columns, 'importance': dtc.feature_importances_})"
   ]
  },
  {
   "cell_type": "code",
   "execution_count": 100,
   "metadata": {},
   "outputs": [],
   "source": [
    "# Alternative to print a tree in text format\n",
    "\"\"\"\n",
    "treeviz.py\n",
    "\n",
    "A simple tree visualizer for sklearn DecisionTreeClassifiers.\n",
    "\n",
    "Written by Lutz Hamel, (c) 2017 - Univeristy of Rhode Island\n",
    "\"\"\"\n",
    "import operator\n",
    "\n",
    "def tree_print(clf, X):\n",
    "    \"\"\"\n",
    "    Print the tree of a sklearn DecisionTreeClassifier\n",
    "\n",
    "    Parameters\n",
    "    ----------\n",
    "    clf : DecisionTreeClassifier - A tree that has already been fit.\n",
    "    X : The original training set\n",
    "    \"\"\"\n",
    "    tlevel = _tree_rprint('', clf, X.columns, clf.classes_)\n",
    "    print('<',end='')\n",
    "    for i in range(3*tlevel - 2):\n",
    "        print('-',end='')\n",
    "    print('>')\n",
    "    print('Tree Depth: ',tlevel)\n",
    "\n",
    "def _tree_rprint(kword, clf, features, labels, node_index=0, tlevel_index=0):\n",
    "    # Note: The DecisionTreeClassifier uses the Tree structure defined in:\n",
    "    # \t\tgithub.com/scikit-learn/scikit-learn/blob/master/sklearn/tree/_tree.pyx\n",
    "    #       it is an array based tree implementation:\n",
    "\n",
    "    # indent the nodes according to their tree level\n",
    "    for i in range(tlevel_index):\n",
    "        print('  |',end='')\n",
    "\n",
    "\t#  TODO: the following should use the TREE_LEAF constant defined in _tree.pyx\n",
    "\t#        instead of -1, not quite sure how to get at it from the tree user level\n",
    "    if clf.tree_.children_left[node_index] == -1:  # indicates leaf\n",
    "        print(kword, end=' ' if kword else '')\n",
    "        # get the majority label\n",
    "        count_list = clf.tree_.value[node_index, 0]\n",
    "        max_index, max_value = max(enumerate(count_list), key=operator.itemgetter(1))\n",
    "        max_label = labels[max_index]\n",
    "        print(max_label)\n",
    "        return tlevel_index\n",
    "    \n",
    "    else:\n",
    "        # compute and print node label\n",
    "        feature = features[clf.tree_.feature[node_index]]\n",
    "        threshold = clf.tree_.threshold[node_index]\n",
    "        print(kword, end=' ' if kword else '')\n",
    "        print('if {} =< {}: '.format(feature, threshold))\n",
    "        # recurse down the children\n",
    "        left_index = clf.tree_.children_left[node_index]\n",
    "        right_index = clf.tree_.children_right[node_index]\n",
    "        ltlevel_index = _tree_rprint('then', clf, features, labels, left_index, tlevel_index+1)\n",
    "        rtlevel_index = _tree_rprint('else', clf, features, labels, right_index, tlevel_index+1)\n",
    "        # return the maximum depth of either one of the children\n",
    "        return max(ltlevel_index,rtlevel_index)"
   ]
  },
  {
   "cell_type": "code",
   "execution_count": 101,
   "metadata": {},
   "outputs": [
    {
     "name": "stdout",
     "output_type": "stream",
     "text": [
      "if min_sqft =< 1738.5: \n",
      "  |then if bath =< 3.5: \n",
      "  |  |then if min_sqft =< 1589.5: \n",
      "  |  |  |then 0.0\n",
      "  |  |  |else 0.0\n",
      "  |  |else if min_sqft =< 811.0: \n",
      "  |  |  |then 0.0\n",
      "  |  |  |else 1.0\n",
      "  |else if min_sqft =< 2025.5: \n",
      "  |  |then if min_sqft =< 1845.5: \n",
      "  |  |  |then 1.0\n",
      "  |  |  |else 1.0\n",
      "  |  |else if min_sqft =< 2202.0: \n",
      "  |  |  |then 1.0\n",
      "  |  |  |else 1.0\n",
      "<------->\n",
      "Tree Depth:  3\n"
     ]
    }
   ],
   "source": [
    "# Use the function tree_print defined above to plot a decision tree in text format\n",
    "tree_print(dtc, X)"
   ]
  },
  {
   "cell_type": "markdown",
   "metadata": {},
   "source": [
    "#### Predict using trained decision tree"
   ]
  },
  {
   "cell_type": "code",
   "execution_count": 102,
   "metadata": {},
   "outputs": [
    {
     "data": {
      "text/html": [
       "<div>\n",
       "<style scoped>\n",
       "    .dataframe tbody tr th:only-of-type {\n",
       "        vertical-align: middle;\n",
       "    }\n",
       "\n",
       "    .dataframe tbody tr th {\n",
       "        vertical-align: top;\n",
       "    }\n",
       "\n",
       "    .dataframe thead th {\n",
       "        text-align: right;\n",
       "    }\n",
       "</style>\n",
       "<table border=\"1\" class=\"dataframe\">\n",
       "  <thead>\n",
       "    <tr style=\"text-align: right;\">\n",
       "      <th></th>\n",
       "      <th>min_sqft</th>\n",
       "      <th>balcony</th>\n",
       "      <th>bath</th>\n",
       "    </tr>\n",
       "  </thead>\n",
       "  <tbody>\n",
       "    <tr>\n",
       "      <th>0</th>\n",
       "      <td>730</td>\n",
       "      <td>4</td>\n",
       "      <td>8</td>\n",
       "    </tr>\n",
       "  </tbody>\n",
       "</table>\n",
       "</div>"
      ],
      "text/plain": [
       "   min_sqft  balcony  bath\n",
       "0       730        4     8"
      ]
     },
     "execution_count": 102,
     "metadata": {},
     "output_type": "execute_result"
    }
   ],
   "source": [
    "#Create a new example with descriptive features as below.\n",
    "X_new = pd.DataFrame({'min_sqft': [730],  'balcony': [4], 'bath': [8]})\n",
    "X_new.head()"
   ]
  },
  {
   "cell_type": "code",
   "execution_count": 103,
   "metadata": {},
   "outputs": [
    {
     "data": {
      "text/plain": [
       "array([0.])"
      ]
     },
     "execution_count": 103,
     "metadata": {},
     "output_type": "execute_result"
    }
   ],
   "source": [
    "dtc.predict(X_new)"
   ]
  },
  {
   "cell_type": "code",
   "execution_count": 104,
   "metadata": {},
   "outputs": [
    {
     "data": {
      "text/plain": [
       "array([[0.77018634, 0.22981366]])"
      ]
     },
     "execution_count": 104,
     "metadata": {},
     "output_type": "execute_result"
    }
   ],
   "source": [
    "dtc.predict_proba(X_new)"
   ]
  },
  {
   "cell_type": "markdown",
   "metadata": {},
   "source": [
    "#### Evaluate model on full dataset"
   ]
  },
  {
   "cell_type": "code",
   "execution_count": null,
   "metadata": {},
   "outputs": [],
   "source": [
    "predictions = dtc.predict(X)\n",
    "df_true_vs_predicted = pd.DataFrame({'ActualClass': df_classif.PriceClass, 'PredictedClass': predictions})\n",
    "df_true_vs_predicted"
   ]
  },
  {
   "cell_type": "code",
   "execution_count": 106,
   "metadata": {},
   "outputs": [
    {
     "name": "stdout",
     "output_type": "stream",
     "text": [
      "Accuracy:  0.8865644588777283\n",
      "Confusion matrix: \n",
      " [[8924  731]\n",
      " [ 771 2815]]\n",
      "Classification report:\n",
      "               precision    recall  f1-score   support\n",
      "\n",
      "        0.0       0.92      0.92      0.92      9655\n",
      "        1.0       0.79      0.78      0.79      3586\n",
      "\n",
      "avg / total       0.89      0.89      0.89     13241\n",
      "\n"
     ]
    }
   ],
   "source": [
    "print(\"Accuracy: \", metrics.accuracy_score(y, predictions))\n",
    "print(\"Confusion matrix: \\n\", metrics.confusion_matrix(y, predictions))\n",
    "print(\"Classification report:\\n \", metrics.classification_report(y, predictions))"
   ]
  },
  {
   "cell_type": "markdown",
   "metadata": {},
   "source": [
    "#### Evaluate on full test set"
   ]
  },
  {
   "cell_type": "code",
   "execution_count": null,
   "metadata": {},
   "outputs": [],
   "source": [
    "X_train, X_test, y_train, y_test = train_test_split(X, y, test_size=0.3)\n",
    "\n",
    "print(\"Training data:\\n\", pd.concat([X_train, y_train], axis=1))\n",
    "print(\"\\nTest data:\\n\", pd.concat([X_test, y_test], axis=1))"
   ]
  },
  {
   "cell_type": "code",
   "execution_count": 108,
   "metadata": {},
   "outputs": [
    {
     "data": {
      "text/plain": [
       "DecisionTreeClassifier(class_weight=None, criterion='gini', max_depth=3,\n",
       "            max_features=None, max_leaf_nodes=None,\n",
       "            min_impurity_decrease=0.0, min_impurity_split=None,\n",
       "            min_samples_leaf=1, min_samples_split=2,\n",
       "            min_weight_fraction_leaf=0.0, presort=False, random_state=1,\n",
       "            splitter='best')"
      ]
     },
     "execution_count": 108,
     "metadata": {},
     "output_type": "execute_result"
    }
   ],
   "source": [
    "# Refit the model on the training set only\n",
    "dtc.fit(X_train, y_train)"
   ]
  },
  {
   "cell_type": "code",
   "execution_count": null,
   "metadata": {},
   "outputs": [],
   "source": [
    "# Predict on the hold-out test set\n",
    "predictions_test = dtc.predict(X_test)\n",
    "df_true_vs_predicted_test = pd.DataFrame({'ActualClass': y_test, 'PredictedClass': predictions_test})\n",
    "\n",
    "df_true_vs_predicted_test"
   ]
  },
  {
   "cell_type": "code",
   "execution_count": 110,
   "metadata": {},
   "outputs": [
    {
     "name": "stdout",
     "output_type": "stream",
     "text": [
      "Accuracy:  0.8852252705763907\n",
      "Confusion matrix: \n",
      " [[2659  218]\n",
      " [ 238  858]]\n",
      "Classification report:\n",
      "               precision    recall  f1-score   support\n",
      "\n",
      "        0.0       0.92      0.92      0.92      2877\n",
      "        1.0       0.80      0.78      0.79      1096\n",
      "\n",
      "avg / total       0.88      0.89      0.88      3973\n",
      "\n"
     ]
    }
   ],
   "source": [
    "print(\"Accuracy: \", metrics.accuracy_score(y_test, predictions_test))\n",
    "print(\"Confusion matrix: \\n\", metrics.confusion_matrix(y_test, predictions_test))\n",
    "print(\"Classification report:\\n \", metrics.classification_report(y_test, predictions_test))"
   ]
  },
  {
   "cell_type": "code",
   "execution_count": 111,
   "metadata": {},
   "outputs": [
    {
     "name": "stdout",
     "output_type": "stream",
     "text": [
      "[0.88697622 0.88148652 0.88511217]\n",
      "0.88452496771396\n"
     ]
    }
   ],
   "source": [
    "# Evaluate the model using 3-fold cross-validation.\n",
    "# Uses 2 parts of data for training and the last part for testing. \n",
    "# This process is repeated 3 times. More details about cross-validation here: http://www-bcf.usc.edu/~gareth/ISL/\n",
    "scores = cross_val_score(DecisionTreeClassifier(max_depth=3, random_state=1), X, y, scoring='accuracy', cv=3)\n",
    "print(scores)\n",
    "print(scores.mean())"
   ]
  },
  {
   "cell_type": "markdown",
   "metadata": {},
   "source": [
    "#### Train a random forest classifier model"
   ]
  },
  {
   "cell_type": "code",
   "execution_count": 112,
   "metadata": {},
   "outputs": [],
   "source": [
    "# Train RF with 100 trees\n",
    "rfc = RandomForestClassifier(n_estimators=100, max_features='auto', oob_score=True, random_state=1)"
   ]
  },
  {
   "cell_type": "code",
   "execution_count": 113,
   "metadata": {},
   "outputs": [
    {
     "data": {
      "text/plain": [
       "RandomForestClassifier(bootstrap=True, class_weight=None, criterion='gini',\n",
       "            max_depth=None, max_features='auto', max_leaf_nodes=None,\n",
       "            min_impurity_decrease=0.0, min_impurity_split=None,\n",
       "            min_samples_leaf=1, min_samples_split=2,\n",
       "            min_weight_fraction_leaf=0.0, n_estimators=100, n_jobs=1,\n",
       "            oob_score=True, random_state=1, verbose=0, warm_start=False)"
      ]
     },
     "execution_count": 113,
     "metadata": {},
     "output_type": "execute_result"
    }
   ],
   "source": [
    "# Fit model on full dataset\n",
    "rfc.fit(X, y)"
   ]
  },
  {
   "cell_type": "code",
   "execution_count": 114,
   "metadata": {},
   "outputs": [
    {
     "data": {
      "text/html": [
       "<div>\n",
       "<style scoped>\n",
       "    .dataframe tbody tr th:only-of-type {\n",
       "        vertical-align: middle;\n",
       "    }\n",
       "\n",
       "    .dataframe tbody tr th {\n",
       "        vertical-align: top;\n",
       "    }\n",
       "\n",
       "    .dataframe thead th {\n",
       "        text-align: right;\n",
       "    }\n",
       "</style>\n",
       "<table border=\"1\" class=\"dataframe\">\n",
       "  <thead>\n",
       "    <tr style=\"text-align: right;\">\n",
       "      <th></th>\n",
       "      <th>feature</th>\n",
       "      <th>importance</th>\n",
       "    </tr>\n",
       "  </thead>\n",
       "  <tbody>\n",
       "    <tr>\n",
       "      <th>0</th>\n",
       "      <td>min_sqft</td>\n",
       "      <td>0.684569</td>\n",
       "    </tr>\n",
       "    <tr>\n",
       "      <th>1</th>\n",
       "      <td>balcony</td>\n",
       "      <td>0.025461</td>\n",
       "    </tr>\n",
       "    <tr>\n",
       "      <th>2</th>\n",
       "      <td>bath</td>\n",
       "      <td>0.289971</td>\n",
       "    </tr>\n",
       "  </tbody>\n",
       "</table>\n",
       "</div>"
      ],
      "text/plain": [
       "    feature  importance\n",
       "0  min_sqft    0.684569\n",
       "1   balcony    0.025461\n",
       "2      bath    0.289971"
      ]
     },
     "execution_count": 114,
     "metadata": {},
     "output_type": "execute_result"
    }
   ],
   "source": [
    "# Compute the importance of each feature based on the trained random forest classifier\n",
    "# RF finds different feature importance than the single decision tree\n",
    "# It finds both Size and Floor to be important features\n",
    "# A downside is that we cannot interpret the RF with 100 trees as we could by looking at a single decision tree\n",
    "# So this table is what we can use to interpret the trained model\n",
    "pd.DataFrame({'feature': X.columns, 'importance':rfc.feature_importances_})"
   ]
  }
 ],
 "metadata": {
  "kernelspec": {
   "display_name": "Python 3",
   "language": "python",
   "name": "python3"
  },
  "language_info": {
   "codemirror_mode": {
    "name": "ipython",
    "version": 3
   },
   "file_extension": ".py",
   "mimetype": "text/x-python",
   "name": "python",
   "nbconvert_exporter": "python",
   "pygments_lexer": "ipython3",
   "version": "3.6.5"
  }
 },
 "nbformat": 4,
 "nbformat_minor": 2
}
